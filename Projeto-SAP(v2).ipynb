{
 "cells": [
  {
   "cell_type": "code",
   "execution_count": 1,
   "metadata": {},
   "outputs": [],
   "source": [
    "import numpy as np\n",
    "import pandas as pd\n",
    "from datetime import datetime\n",
    "import re"
   ]
  },
  {
   "cell_type": "code",
   "execution_count": 2,
   "metadata": {},
   "outputs": [],
   "source": [
    "from bs4 import BeautifulSoup\n",
    "from selenium import webdriver\n",
    "options = webdriver.ChromeOptions()\n",
    "options.add_argument('headless')\n",
    "options.add_argument('window-size=1920x1080')\n",
    "driver = webdriver.Chrome(chrome_options=options)"
   ]
  },
  {
   "cell_type": "code",
   "execution_count": 3,
   "metadata": {},
   "outputs": [
    {
     "data": {
      "text/plain": [
       "datetime.datetime(2019, 3, 8, 11, 13, 26, 366316)"
      ]
     },
     "execution_count": 3,
     "metadata": {},
     "output_type": "execute_result"
    }
   ],
   "source": [
    "data = datetime.now()\n",
    "data"
   ]
  },
  {
   "cell_type": "code",
   "execution_count": 4,
   "metadata": {},
   "outputs": [],
   "source": [
    "writer = pd.ExcelWriter('SAP_{}-{}-{}.xlsx'.format(data.day,data.month,data.year), engine='xlsxwriter')"
   ]
  },
  {
   "cell_type": "markdown",
   "metadata": {},
   "source": [
    "# CPP"
   ]
  },
  {
   "cell_type": "code",
   "execution_count": 5,
   "metadata": {},
   "outputs": [],
   "source": [
    "driver.get(\"http://www.sap.sp.gov.br/uni-prisionais/cpp.html\")"
   ]
  },
  {
   "cell_type": "code",
   "execution_count": 6,
   "metadata": {},
   "outputs": [],
   "source": [
    "page = BeautifulSoup(driver.page_source, 'html.parser')"
   ]
  },
  {
   "cell_type": "code",
   "execution_count": 7,
   "metadata": {},
   "outputs": [],
   "source": [
    "# Setor onde se localizam os dados\n",
    "\n",
    "cpp = page.find_all('div', class_ = 'f-out')"
   ]
  },
  {
   "cell_type": "code",
   "execution_count": 8,
   "metadata": {},
   "outputs": [],
   "source": [
    "# Criando o dicionário da base de dados\n",
    "\n",
    "bd_dic = {}"
   ]
  },
  {
   "cell_type": "code",
   "execution_count": 9,
   "metadata": {},
   "outputs": [],
   "source": [
    "# Criando a variável dos nomes\n",
    "\n",
    "bd_dic['NOME'] = []"
   ]
  },
  {
   "cell_type": "code",
   "execution_count": 10,
   "metadata": {},
   "outputs": [
    {
     "data": {
      "text/plain": [
       "['CPP I \"Dr. Alberto Brocchieri\" de Bauru',\n",
       " 'CPP II \"Dr. Eduardo de Oliveira Vianna\" de Bauru',\n",
       " 'CPP \"Professor Ataliba Nogueira\" de Campinas',\n",
       " 'CPP de Franco da Rocha',\n",
       " 'CPP de Hortolândia',\n",
       " 'CPP \"Dr Rubens Aleixo Sendin\" de Mongaguá',\n",
       " 'CPP de Pacaembu',\n",
       " 'CPP \"Dr Javert de Andrade\" de São José do Rio Preto',\n",
       " 'CPP Feminino \"Dra. Marina Marigo Cardoso de Oliveira\" de Butantan',\n",
       " 'CPP Feminino de São Miguel Paulista',\n",
       " 'CPP \"Dr Edgar Magalhães Noronha\" de Tremembé',\n",
       " 'CPP de Valparaíso',\n",
       " 'CPP III \"Prof. Noé Azevedo\" de Bauru',\n",
       " 'CPP de Jardinópolis',\n",
       " 'CPP de Porto Feliz']"
      ]
     },
     "execution_count": 10,
     "metadata": {},
     "output_type": "execute_result"
    }
   ],
   "source": [
    "# Extraindo o nome dos presídios e colocando no dicionário\n",
    "\n",
    "for penitenciária in list(tag for tag in cpp):\n",
    "    bd_dic['NOME'].append(penitenciária.find('h3').get_text().strip())\n",
    "    \n",
    "bd_dic['NOME']"
   ]
  },
  {
   "cell_type": "code",
   "execution_count": 11,
   "metadata": {},
   "outputs": [],
   "source": [
    "# Criando a variável das Coordenadorias\n",
    "\n",
    "bd_dic['COO'] = []"
   ]
  },
  {
   "cell_type": "code",
   "execution_count": 12,
   "metadata": {},
   "outputs": [
    {
     "data": {
      "text/plain": [
       "['Coordenadoria da Região Noroeste',\n",
       " 'Coordenadoria da Região Noroeste',\n",
       " 'Coordenadoria da Região Central',\n",
       " 'Coordenadoria da Capital e Grande São Paulo',\n",
       " 'Coordenadoria da Região Central',\n",
       " 'Coordenadoria do Vale do Paraíba e Litoral',\n",
       " 'Coordenadoria da Região Oeste',\n",
       " 'Coordenadoria da Região Oeste',\n",
       " 'Coordenadoria da Capital e Grande São Paulo',\n",
       " 'Coordenadoria da Capital e Grande São Paulo',\n",
       " 'Coordenadoria do Vale do Paraíba e Litoral',\n",
       " 'Coordenadoria da Região Oeste',\n",
       " 'Coordenadoria da Região Noroeste',\n",
       " 'Coordenadoria da Região Noroeste',\n",
       " 'Coordenadoria da Região Central']"
      ]
     },
     "execution_count": 12,
     "metadata": {},
     "output_type": "execute_result"
    }
   ],
   "source": [
    "# Extraindo o nome das coordenadorias e colocando no dicionário\n",
    "\n",
    "for penitenciária in  [tag for tag in cpp]:\n",
    "    bd_dic['COO'].append(penitenciária.find('h4').get_text().strip())\n",
    "\n",
    "bd_dic['COO']"
   ]
  },
  {
   "cell_type": "code",
   "execution_count": 13,
   "metadata": {},
   "outputs": [
    {
     "data": {
      "text/plain": [
       "['1710',\n",
       " '1706',\n",
       " '2058',\n",
       " '1738',\n",
       " '1125',\n",
       " '1640',\n",
       " '686',\n",
       " '1079',\n",
       " '1028',\n",
       " '152',\n",
       " '2672',\n",
       " '691',\n",
       " '1124',\n",
       " '1080',\n",
       " '1080']"
      ]
     },
     "execution_count": 13,
     "metadata": {},
     "output_type": "execute_result"
    }
   ],
   "source": [
    "bd_dic['CAP'] = []\n",
    "\n",
    "for penitenciária in [tag for tag in cpp]:\n",
    "    m = re.search(r\"Capacidade:.+\\>(\\d+).+População\", str(penitenciária))\n",
    "    bd_dic['CAP'].append(m.group(1))\n",
    "    \n",
    "bd_dic['CAP']"
   ]
  },
  {
   "cell_type": "code",
   "execution_count": 14,
   "metadata": {},
   "outputs": [
    {
     "data": {
      "text/plain": [
       "['2528',\n",
       " '2611',\n",
       " '2314',\n",
       " '2289',\n",
       " '1932',\n",
       " '2811',\n",
       " '1719',\n",
       " '1956',\n",
       " '1008',\n",
       " '149',\n",
       " '3016',\n",
       " '1805',\n",
       " '488',\n",
       " '1782',\n",
       " '1856']"
      ]
     },
     "execution_count": 14,
     "metadata": {},
     "output_type": "execute_result"
    }
   ],
   "source": [
    "bd_dic['POP'] = []\n",
    "\n",
    "for penitenciária in [tag for tag in cpp]:\n",
    "    m = re.search(r\"População:.+\\>(\\d+)\\<br\\/\\>\", str(penitenciária))\n",
    "    bd_dic['POP'].append(m.group(1))\n",
    "    \n",
    "bd_dic['POP']"
   ]
  },
  {
   "cell_type": "code",
   "execution_count": 15,
   "metadata": {},
   "outputs": [],
   "source": [
    "bd = pd.DataFrame(bd_dic, index=np.array(range(1,len(cpp)+1)), columns = ['NOME', 'COO', 'CAP', 'POP'])"
   ]
  },
  {
   "cell_type": "code",
   "execution_count": 16,
   "metadata": {},
   "outputs": [],
   "source": [
    "bd.to_excel(writer, 'CPP')"
   ]
  },
  {
   "cell_type": "markdown",
   "metadata": {},
   "source": [
    "# CDP"
   ]
  },
  {
   "cell_type": "code",
   "execution_count": 17,
   "metadata": {},
   "outputs": [],
   "source": [
    "driver.get(\"http://www.sap.sp.gov.br/uni-prisionais/cdp.html\")"
   ]
  },
  {
   "cell_type": "code",
   "execution_count": 18,
   "metadata": {},
   "outputs": [],
   "source": [
    "page = BeautifulSoup(driver.page_source, 'html.parser')"
   ]
  },
  {
   "cell_type": "code",
   "execution_count": 19,
   "metadata": {},
   "outputs": [],
   "source": [
    "# Setor onde se localizam os dados\n",
    "\n",
    "cdp = page.find_all('div', class_ = 'f-out')"
   ]
  },
  {
   "cell_type": "code",
   "execution_count": 20,
   "metadata": {
    "scrolled": true
   },
   "outputs": [
    {
     "data": {
      "text/plain": [
       "44"
      ]
     },
     "execution_count": 20,
     "metadata": {},
     "output_type": "execute_result"
    }
   ],
   "source": [
    "len(cdp)"
   ]
  },
  {
   "cell_type": "code",
   "execution_count": 21,
   "metadata": {},
   "outputs": [],
   "source": [
    "# Criando o dicionário da base de dados\n",
    "\n",
    "bd_dic = {}"
   ]
  },
  {
   "cell_type": "code",
   "execution_count": 22,
   "metadata": {},
   "outputs": [],
   "source": [
    "# Criando a variável dos nomes\n",
    "\n",
    "bd_dic['NOME'] = []"
   ]
  },
  {
   "cell_type": "code",
   "execution_count": 23,
   "metadata": {},
   "outputs": [
    {
     "data": {
      "text/plain": [
       "['CDP \"AEVP Renato Gonçalves Rodrigues\" de Americana',\n",
       " 'CDP \"ASP Francisco Carlos Caneschi\" de Bauru',\n",
       " 'CDP \"Tácio Aparecido Santana\"  de Caiuá',\n",
       " 'CDP de Campinas',\n",
       " 'CDP \"Dr. José Eduardo Mariz de Oliveira\" de Caraguatatuba',\n",
       " 'CDP de Diadema',\n",
       " 'CDP Feminino de Franco da Rocha',\n",
       " 'CDP I \"ASP Giovani Martins Rodrigues\" de Guarulhos',\n",
       " 'CDP II de Guarulhos',\n",
       " 'CDP de Hortolândia',\n",
       " 'CDP \"ASP Nilton Celestino\" de Itapecerica da Serra',\n",
       " 'CDP \"Marcos Antônio Alves Bezerra\" de Jundiaí',\n",
       " 'CDP de Mauá',\n",
       " 'CDP de Mogi das Cruzes',\n",
       " 'CDP I \"ASP Ederson Vieira de Jesus\" de Osasco',\n",
       " 'CDP II \"ASP Vanda Rita Brito do Rego\" de Osasco',\n",
       " 'CDP \"Nelson Furlan\" de Piracicaba',\n",
       " 'CDP \"ASP Charles Demitre Teixeira\" de Praia Grande',\n",
       " 'CDP de Ribeirão Preto',\n",
       " 'CDP de Santo André',\n",
       " 'CDP \"Dr. Calixto Antonio\" de São Bernardo do Campo',\n",
       " 'CDP de São José do Rio Preto',\n",
       " 'CDP de São José dos Campos',\n",
       " 'CDP I \"ASP Vicente Luzan da Silva\" de Pinheiros',\n",
       " 'CDP II \"ASP Willians Nogueira Benjamin\" de Pinheiros',\n",
       " 'CDP III de Pinheiros',\n",
       " 'CDP IV de Pinheiros',\n",
       " 'CDP de Vila Independência',\n",
       " 'CDP I de Chácara Belém',\n",
       " 'CDP II \"ASP Paulo Gilberto de Araújo\" de Chácara Belém',\n",
       " 'CDP \"Luis César Lacerda\" de São Vicente',\n",
       " 'CDP de Serra Azul',\n",
       " 'CDP de Sorocaba',\n",
       " 'CDP de Suzano',\n",
       " 'CDP \"Dr. Félix Nobre de Campos\" de Taubaté',\n",
       " 'CDP de Taiúva',\n",
       " 'CDP de Pontal',\n",
       " 'CDP de Cerqueira César',\n",
       " 'CDP de Capela do Alto',\n",
       " 'CDP \"ASP Valdecir Fabiano\" de Riolândia',\n",
       " 'CDP de Itatinga',\n",
       " 'CDP “Marcos Amilton Raysaro” de Icém',\n",
       " 'CDP de Limeira',\n",
       " 'CDP de Nova Independência']"
      ]
     },
     "execution_count": 23,
     "metadata": {},
     "output_type": "execute_result"
    }
   ],
   "source": [
    "# Extraindo o nome dos presídios e colocando no dicionário\n",
    "\n",
    "for penitenciária in list(tag for tag in cdp):\n",
    "    bd_dic['NOME'].append(penitenciária.find('h3').get_text().strip())\n",
    "    \n",
    "bd_dic['NOME']"
   ]
  },
  {
   "cell_type": "code",
   "execution_count": 24,
   "metadata": {},
   "outputs": [],
   "source": [
    "# Criando a variável das Coordenadorias\n",
    "\n",
    "bd_dic['COO'] = []"
   ]
  },
  {
   "cell_type": "code",
   "execution_count": 25,
   "metadata": {},
   "outputs": [
    {
     "data": {
      "text/plain": [
       "['Coordenadoria da Região Central',\n",
       " 'Coordenadoria da Região Noroeste',\n",
       " 'Coordenadoria da Região Oeste',\n",
       " 'Coordenadoria da Região Central',\n",
       " 'Coordenadoria do Vale do Paraíba e Litoral',\n",
       " 'Coordenadoria da Capital e Grande São Paulo',\n",
       " 'Coordenadoria da Capital e Grande São Paulo',\n",
       " 'Coordenadoria da Capital e Grande São Paulo',\n",
       " 'Coordenadoria da Capital e Grande São Paulo',\n",
       " 'Coordenadoria da Região Central',\n",
       " 'Coordenadoria da Capital e Grande São Paulo',\n",
       " 'Coordenadoria da Região Central',\n",
       " 'Coordenadoria da Capital e Grande São Paulo',\n",
       " 'Coordenadoria do Vale do Paraíba e Litoral',\n",
       " 'Coordenadoria da Capital e Grande São Paulo',\n",
       " 'Coordenadoria da Capital e Grande São Paulo',\n",
       " 'Coordenadoria da Região Central',\n",
       " 'Coordenadoria do Vale do Paraíba e Litoral',\n",
       " 'Coordenadoria da Região Noroeste',\n",
       " 'Coordenadoria da Capital e Grande São Paulo',\n",
       " 'Coordenadoria da Capital e Grande São Paulo',\n",
       " 'Coordenadoria da Região Oeste',\n",
       " 'Coordenadoria do Vale do Paraíba e Litoral',\n",
       " 'Coordenadoria da Capital e Grande São Paulo',\n",
       " 'Coordenadoria da Capital e Grande São Paulo',\n",
       " 'Coordenadoria da Capital e Grande São Paulo',\n",
       " 'Coordenadoria da Capital e Grande São Paulo',\n",
       " 'Coordenadoria da Capital e Grande São Paulo',\n",
       " 'Coordenadoria da Capital e Grande São Paulo',\n",
       " 'Coordenadoria da Capital e Grande São Paulo',\n",
       " 'Coordenadoria do Vale do Paraíba e Litoral',\n",
       " 'Coordenadoria da Região Noroeste',\n",
       " 'Coordenadoria da Região Central',\n",
       " 'Coordenadoria do Vale do Paraíba e Litoral',\n",
       " 'Coordenadoria do Vale do Paraíba e Litoral',\n",
       " 'Coordenadoria da Região Noroeste',\n",
       " 'Coordenadoria da Região Noroeste',\n",
       " 'Coordenadoria da Região Noroeste',\n",
       " 'Coordenadoria da Região Central',\n",
       " 'Coordenadoria da Região Oeste',\n",
       " 'Coordenadoria da Região Noroeste',\n",
       " 'Coordenadoria da Região Oeste',\n",
       " 'Coordenadoria da Região Central',\n",
       " 'Coordenadoria da Região Oeste']"
      ]
     },
     "execution_count": 25,
     "metadata": {},
     "output_type": "execute_result"
    }
   ],
   "source": [
    "# Extraindo o nome das coordenadorias e colocando no dicionário\n",
    "\n",
    "for penitenciária in  [tag for tag in cdp]:\n",
    "    bd_dic['COO'].append(penitenciária.find('h4').get_text().strip())\n",
    "\n",
    "bd_dic['COO']"
   ]
  },
  {
   "cell_type": "code",
   "execution_count": 26,
   "metadata": {},
   "outputs": [],
   "source": [
    "bd_dic['CAP'] = []"
   ]
  },
  {
   "cell_type": "code",
   "execution_count": 27,
   "metadata": {},
   "outputs": [
    {
     "data": {
      "text/plain": [
       "['640',\n",
       " '844',\n",
       " '844',\n",
       " '822',\n",
       " '847',\n",
       " '613',\n",
       " '1008',\n",
       " '844',\n",
       " '841',\n",
       " '844',\n",
       " '845',\n",
       " '847',\n",
       " '626',\n",
       " '844',\n",
       " '833',\n",
       " '833',\n",
       " '514',\n",
       " '564',\n",
       " '586',\n",
       " '534',\n",
       " '844',\n",
       " '844',\n",
       " '525',\n",
       " '521',\n",
       " '793',\n",
       " '572',\n",
       " '566',\n",
       " '822',\n",
       " '853',\n",
       " '844',\n",
       " '842',\n",
       " '856',\n",
       " '707',\n",
       " '844',\n",
       " '844',\n",
       " '847',\n",
       " '847',\n",
       " '847',\n",
       " '847',\n",
       " '847',\n",
       " '847',\n",
       " '847',\n",
       " '823',\n",
       " '822']"
      ]
     },
     "execution_count": 27,
     "metadata": {},
     "output_type": "execute_result"
    }
   ],
   "source": [
    "for penitenciária in [tag for tag in cdp]:\n",
    "    try:\n",
    "        m = re.search(r'Capacidade:.+\\>(\\d+).+População', str(penitenciária))\n",
    "        bd_dic['CAP'].append(m.group(1))\n",
    "    except:\n",
    "        bd_dic['CAP'].append(np.nan)\n",
    "bd_dic['CAP']"
   ]
  },
  {
   "cell_type": "code",
   "execution_count": 28,
   "metadata": {},
   "outputs": [],
   "source": [
    "bd_dic['POP'] = []"
   ]
  },
  {
   "cell_type": "code",
   "execution_count": 29,
   "metadata": {},
   "outputs": [
    {
     "data": {
      "text/plain": [
       "['1394',\n",
       " '1287',\n",
       " '861',\n",
       " '1390',\n",
       " '1361',\n",
       " '1467',\n",
       " '946',\n",
       " '1698',\n",
       " '1407',\n",
       " '1454',\n",
       " '1099',\n",
       " '1595',\n",
       " '1333',\n",
       " '1577',\n",
       " '1619',\n",
       " '1633',\n",
       " '1222',\n",
       " '1227',\n",
       " '766',\n",
       " '1247',\n",
       " '1644',\n",
       " '952',\n",
       " '879',\n",
       " '1610',\n",
       " '1529',\n",
       " '1678',\n",
       " '420',\n",
       " '1576',\n",
       " '1425',\n",
       " '1615',\n",
       " '1624',\n",
       " '263',\n",
       " '1388',\n",
       " '1369',\n",
       " '1506',\n",
       " '1102',\n",
       " '1121',\n",
       " '1051',\n",
       " '1483',\n",
       " '778',\n",
       " '879',\n",
       " '1159',\n",
       " '1289',\n",
       " '876']"
      ]
     },
     "execution_count": 29,
     "metadata": {},
     "output_type": "execute_result"
    }
   ],
   "source": [
    "for penitenciária in [tag for tag in cdp]:\n",
    "    try:\n",
    "        m = re.search(r'População:.+\\>(\\d+)\\<', str(penitenciária))\n",
    "        bd_dic['POP'].append(m.group(1))\n",
    "    except:\n",
    "        bd_dic['POP'].append(np.nan)\n",
    "bd_dic['POP']"
   ]
  },
  {
   "cell_type": "code",
   "execution_count": 30,
   "metadata": {},
   "outputs": [],
   "source": [
    "bd_dic['APP_CAP'] = []"
   ]
  },
  {
   "cell_type": "code",
   "execution_count": 31,
   "metadata": {},
   "outputs": [
    {
     "data": {
      "text/plain": [
       "[nan,\n",
       " nan,\n",
       " nan,\n",
       " nan,\n",
       " nan,\n",
       " nan,\n",
       " nan,\n",
       " nan,\n",
       " nan,\n",
       " nan,\n",
       " '6',\n",
       " nan,\n",
       " nan,\n",
       " nan,\n",
       " nan,\n",
       " nan,\n",
       " '60',\n",
       " nan,\n",
       " nan,\n",
       " nan,\n",
       " nan,\n",
       " nan,\n",
       " nan,\n",
       " nan,\n",
       " nan,\n",
       " nan,\n",
       " nan,\n",
       " nan,\n",
       " '110',\n",
       " '110',\n",
       " nan,\n",
       " nan,\n",
       " nan,\n",
       " nan,\n",
       " nan,\n",
       " nan,\n",
       " nan,\n",
       " nan,\n",
       " nan,\n",
       " nan,\n",
       " nan,\n",
       " nan,\n",
       " nan,\n",
       " nan]"
      ]
     },
     "execution_count": 31,
     "metadata": {},
     "output_type": "execute_result"
    }
   ],
   "source": [
    "for penitenciária in [tag for tag in cdp]:\n",
    "    try:\n",
    "        m = re.findall(r'Capacidade:.+\\>(\\d+).+População', str(penitenciária))\n",
    "        bd_dic['APP_CAP'].append(m[1])\n",
    "    except:\n",
    "        bd_dic['APP_CAP'].append(np.nan)\n",
    "bd_dic['APP_CAP']"
   ]
  },
  {
   "cell_type": "code",
   "execution_count": 32,
   "metadata": {},
   "outputs": [],
   "source": [
    "bd_dic['APP_POP'] = []"
   ]
  },
  {
   "cell_type": "code",
   "execution_count": 33,
   "metadata": {},
   "outputs": [
    {
     "data": {
      "text/plain": [
       "[nan,\n",
       " nan,\n",
       " nan,\n",
       " nan,\n",
       " nan,\n",
       " nan,\n",
       " nan,\n",
       " nan,\n",
       " nan,\n",
       " nan,\n",
       " '4',\n",
       " nan,\n",
       " nan,\n",
       " nan,\n",
       " nan,\n",
       " nan,\n",
       " '49',\n",
       " nan,\n",
       " nan,\n",
       " nan,\n",
       " nan,\n",
       " nan,\n",
       " nan,\n",
       " nan,\n",
       " nan,\n",
       " nan,\n",
       " nan,\n",
       " nan,\n",
       " '355',\n",
       " '293',\n",
       " nan,\n",
       " nan,\n",
       " nan,\n",
       " nan,\n",
       " nan,\n",
       " nan,\n",
       " nan,\n",
       " nan,\n",
       " nan,\n",
       " nan,\n",
       " nan,\n",
       " nan,\n",
       " nan,\n",
       " nan]"
      ]
     },
     "execution_count": 33,
     "metadata": {},
     "output_type": "execute_result"
    }
   ],
   "source": [
    "for penitenciária in [tag for tag in cdp]:\n",
    "    try:\n",
    "        m = re.findall(r'População:.+\\>(\\d+)\\<', str(penitenciária))\n",
    "        bd_dic['APP_POP'].append(m[1])\n",
    "    except:\n",
    "        bd_dic['APP_POP'].append(np.nan)\n",
    "bd_dic['APP_POP']"
   ]
  },
  {
   "cell_type": "code",
   "execution_count": 34,
   "metadata": {},
   "outputs": [],
   "source": [
    "bd = pd.DataFrame(bd_dic, index=np.array(range(1,len(cdp)+1)), columns = ['NOME', 'COO', 'CAP', 'POP', 'APP_CAP', 'APP_POP'])"
   ]
  },
  {
   "cell_type": "code",
   "execution_count": 35,
   "metadata": {},
   "outputs": [],
   "source": [
    "bd.to_excel(writer, 'CDP')"
   ]
  },
  {
   "cell_type": "markdown",
   "metadata": {},
   "source": [
    "# CR"
   ]
  },
  {
   "cell_type": "code",
   "execution_count": 64,
   "metadata": {},
   "outputs": [],
   "source": [
    "driver.get(\"http://www.sap.sp.gov.br/uni-prisionais/cr.html#\")"
   ]
  },
  {
   "cell_type": "code",
   "execution_count": 65,
   "metadata": {},
   "outputs": [],
   "source": [
    "page = BeautifulSoup(driver.page_source, 'html.parser')"
   ]
  },
  {
   "cell_type": "code",
   "execution_count": 66,
   "metadata": {},
   "outputs": [],
   "source": [
    "# Setor onde se localizam os dados\n",
    "\n",
    "cr = page.find_all('div', class_ = 'f-out')"
   ]
  },
  {
   "cell_type": "code",
   "execution_count": 67,
   "metadata": {},
   "outputs": [
    {
     "data": {
      "text/plain": [
       "22"
      ]
     },
     "execution_count": 67,
     "metadata": {},
     "output_type": "execute_result"
    }
   ],
   "source": [
    "len(cr)"
   ]
  },
  {
   "cell_type": "code",
   "execution_count": 68,
   "metadata": {
    "scrolled": true
   },
   "outputs": [
    {
     "data": {
      "text/plain": [
       "<div class=\"f-out\" id=\"dados-uni61\">\n",
       "<h3>CR de Ourinhos</h3>\n",
       "<h4>Coordenadoria da Região Noroeste</h4>\n",
       "<p class=\"dados\">\n",
       "<span class=\"cor-dados\">Endereço: </span>\tAv. Jacinto Ferreira de Sá, 21 - Centro <br/>\n",
       "<span class=\"cor-dados\">CEP: </span> 19911-720 - Ourinhos  - SP<br/>\n",
       "<span class=\"cor-dados\">E-mail: </span><a class=\"inline\" href=\"mailto:crourinhos@sap.sp.gov.br\">crourinhos@sap.sp.gov.br</a> <br/>\n",
       "<span class=\"cor-dados\">Fone: </span>(14) 3324-6605  <span class=\"cor-dados\">Fax: </span>(14) 3325-1896\n",
       "                <span class=\"cor-ult\"><script type=\"text/javascript\">document.write(data);</script><b>População prisional</b> - data: 20/nov</span><span class=\"cor-dados\"><br/> \n",
       "               Capacidade: </span> <script type=\"text/javascript\">document.write(capcrouri);</script>83   <span class=\"cor-dados\">População: </span> <script type=\"text/javascript\">document.write(crouri);</script>65<br/>\n",
       "<span class=\"cor-ala\">Anexo de regime semiaberto</span> <br/>\n",
       "<span class=\"cor-dados\"> Capacidade:</span> <script type=\"text/javascript\">document.write(capcrouriarsa);</script>40   <span class=\"cor-dados\">População:</span> <script type=\"text/javascript\">document.write(crouriarsa);</script>67<br/>\n",
       "</p>\n",
       "<p class=\"ficha\">Ficha Técnica</p>\n",
       "<p class=\"dados\">\n",
       "<span class=\"cor-dados\">Área construida: </span>4.872,00 m²<br/>\n",
       "<span class=\"cor-dados\">Data de inauguração: </span>25/11/2005 <br/>\n",
       "<span class=\"cor-dados\">Regime: </span> fechado - preso provisório e semiaberto\n",
       "    </p>\n",
       "<p class=\"gmaps\"><a href=\"https://www.google.com/maps/d/viewer?hl=pt-BR&amp;authuser=0&amp;mid=1jKJ4_4Beu812Jkdq0g6NB6R9shE&amp;ll=-22.975179099999977%2C-49.872867299999996&amp;z=15\" target=\"_blank\">Google Maps <img src=\"../Img/icon-gmaps.jpg\"/></a></p>\n",
       "<p class=\"fechar-ala\"><a class=\"btn1\"> <img alt=\"Fechar janela\" height=\"19\" src=\"../Img/botaoFechar.png\" width=\"60\"/></a></p>\n",
       "</div>"
      ]
     },
     "execution_count": 68,
     "metadata": {},
     "output_type": "execute_result"
    }
   ],
   "source": [
    "cr[14]"
   ]
  },
  {
   "cell_type": "code",
   "execution_count": 69,
   "metadata": {},
   "outputs": [],
   "source": [
    "# Criando o dicionário da base de dados\n",
    "\n",
    "bd_dic = {}"
   ]
  },
  {
   "cell_type": "code",
   "execution_count": 70,
   "metadata": {},
   "outputs": [],
   "source": [
    "# Criando a variável dos nomes\n",
    "\n",
    "bd_dic['NOME'] = []"
   ]
  },
  {
   "cell_type": "code",
   "execution_count": 71,
   "metadata": {},
   "outputs": [
    {
     "data": {
      "text/plain": [
       "['CR de Araçatuba',\n",
       " 'CR de Araraquara',\n",
       " 'CR Feminino de Araraquara',\n",
       " 'CR de Atibaia',\n",
       " 'CR \"Dr. Mauro de Macedo\" de Avaré',\n",
       " 'CR de Birigui',\n",
       " 'CR de Bragança Paulista',\n",
       " 'CR de Itapetininga',\n",
       " 'CR \"Dr. João Eduardo Franco Perlati\" de Jaú',\n",
       " 'CR de Limeira',\n",
       " 'CR \"Dr. Manoel Carlos Muniz\" de Lins',\n",
       " 'CR de Marília',\n",
       " 'CR de Mococa',\n",
       " 'CR \"Prefeito João Missaglia\" de Mogi Mirim',\n",
       " 'CR de Ourinhos',\n",
       " 'CR Feminino \"Carlos Sidnes de Souza Cantarelli\" de Piracicaba',\n",
       " 'CR de Presidente Prudente',\n",
       " 'CR Feminino de  Rio Claro',\n",
       " 'CR \"Dr. Luis Gonzaga de Arruda Campos\" de  Rio Claro',\n",
       " 'CR Feminino de São José do Rio Preto',\n",
       " 'CR Feminino  de São José dos Campos',\n",
       " 'CR de Sumaré']"
      ]
     },
     "execution_count": 71,
     "metadata": {},
     "output_type": "execute_result"
    }
   ],
   "source": [
    "# Extraindo o nome dos presídios e colocando no dicionário\n",
    "\n",
    "for penitenciária in list(tag for tag in cr):\n",
    "    bd_dic['NOME'].append(penitenciária.find('h3').get_text().strip())\n",
    "    \n",
    "bd_dic['NOME']"
   ]
  },
  {
   "cell_type": "code",
   "execution_count": 72,
   "metadata": {},
   "outputs": [],
   "source": [
    "# Criando a variável das Coordenadorias\n",
    "\n",
    "bd_dic['COO'] = []"
   ]
  },
  {
   "cell_type": "code",
   "execution_count": 73,
   "metadata": {},
   "outputs": [
    {
     "data": {
      "text/plain": [
       "['Coordenadoria da Região Oeste',\n",
       " 'Coordenadoria da Região Noroeste',\n",
       " 'Coordenadoria da Região Noroeste',\n",
       " 'Coordenadoria da Região Central',\n",
       " 'Coordenadoria da Região Noroeste',\n",
       " 'Coordenadoria da Região Oeste',\n",
       " 'Coordenadoria da Região Central',\n",
       " 'Coordenadoria da Região Central',\n",
       " 'Coordenadoria da Região Noroeste',\n",
       " 'Coordenadoria da Região Central',\n",
       " 'Coordenadoria da Região Noroeste',\n",
       " 'Coordenadoria da Região Noroeste',\n",
       " 'Coordenadoria da Região Central',\n",
       " 'Coordenadoria da Região Central',\n",
       " 'Coordenadoria da Região Noroeste',\n",
       " 'Coordenadoria da Região Central',\n",
       " 'Coordenadoria da Região Oeste',\n",
       " 'Coordenadoria da Região Central',\n",
       " 'Coordenadoria da Região Central',\n",
       " 'Coordenadoria da Região Oeste',\n",
       " 'Coordenadoria do Vale do Paraíba e Litoral',\n",
       " 'Coordenadoria da Região Central']"
      ]
     },
     "execution_count": 73,
     "metadata": {},
     "output_type": "execute_result"
    }
   ],
   "source": [
    "# Extraindo o nome das coordenadorias e colocando no dicionário\n",
    "\n",
    "for penitenciária in  [tag for tag in cr]:\n",
    "    bd_dic['COO'].append(penitenciária.find('h4').get_text().strip())\n",
    "\n",
    "bd_dic['COO']"
   ]
  },
  {
   "cell_type": "code",
   "execution_count": 74,
   "metadata": {},
   "outputs": [],
   "source": [
    "bd_dic['CAP'] = []"
   ]
  },
  {
   "cell_type": "code",
   "execution_count": 75,
   "metadata": {},
   "outputs": [
    {
     "data": {
      "text/plain": [
       "['142',\n",
       " '146',\n",
       " '64',\n",
       " '204',\n",
       " '179',\n",
       " '153',\n",
       " '187',\n",
       " '214',\n",
       " '179',\n",
       " '144',\n",
       " '179',\n",
       " '214',\n",
       " '214',\n",
       " nan,\n",
       " '83',\n",
       " '129',\n",
       " '142',\n",
       " '80',\n",
       " '146',\n",
       " '142',\n",
       " '108',\n",
       " nan]"
      ]
     },
     "execution_count": 75,
     "metadata": {},
     "output_type": "execute_result"
    }
   ],
   "source": [
    "for penitenciária in [tag for tag in cr]:\n",
    "    try:\n",
    "        m = re.search(r'data:.+\\s.+Capacidade:.+>(\\d+).+População', str(penitenciária))\n",
    "        bd_dic['CAP'].append(m.group(1))\n",
    "    except:\n",
    "        bd_dic['CAP'].append(np.nan)\n",
    "        \n",
    "bd_dic['CAP']"
   ]
  },
  {
   "cell_type": "code",
   "execution_count": 76,
   "metadata": {},
   "outputs": [],
   "source": [
    "bd_dic['POP'] = []"
   ]
  },
  {
   "cell_type": "code",
   "execution_count": 77,
   "metadata": {},
   "outputs": [
    {
     "data": {
      "text/plain": [
       "['127',\n",
       " '90',\n",
       " '65',\n",
       " '203',\n",
       " '144',\n",
       " '144',\n",
       " '180',\n",
       " '239',\n",
       " '143',\n",
       " '151',\n",
       " '160',\n",
       " '208',\n",
       " '201',\n",
       " nan,\n",
       " '65',\n",
       " '125',\n",
       " '124',\n",
       " '64',\n",
       " '138',\n",
       " '130',\n",
       " '98',\n",
       " nan]"
      ]
     },
     "execution_count": 77,
     "metadata": {},
     "output_type": "execute_result"
    }
   ],
   "source": [
    "for penitenciária in [tag for tag in cr]:\n",
    "    try:\n",
    "        m = re.search(r'data:.+\\s.+População.+>(\\d+)', str(penitenciária))\n",
    "        bd_dic['POP'].append(m.group(1))\n",
    "    except:\n",
    "        bd_dic['POP'].append(np.nan)\n",
    "bd_dic['POP']"
   ]
  },
  {
   "cell_type": "code",
   "execution_count": 78,
   "metadata": {},
   "outputs": [],
   "source": [
    "bd_dic['ARSA_CAP'] = []"
   ]
  },
  {
   "cell_type": "code",
   "execution_count": 79,
   "metadata": {},
   "outputs": [
    {
     "data": {
      "text/plain": [
       "['72',\n",
       " '70',\n",
       " '32',\n",
       " nan,\n",
       " '35',\n",
       " '72',\n",
       " '72',\n",
       " nan,\n",
       " '35',\n",
       " '70',\n",
       " '35',\n",
       " nan,\n",
       " nan,\n",
       " '214',\n",
       " '40',\n",
       " nan,\n",
       " '72',\n",
       " '40',\n",
       " '70',\n",
       " '54',\n",
       " '75',\n",
       " '223']"
      ]
     },
     "execution_count": 79,
     "metadata": {},
     "output_type": "execute_result"
    }
   ],
   "source": [
    "for penitenciária in [tag for tag in cr]:\n",
    "    try:\n",
    "        m = re.search(r'Anexo de regime semiaberto.+\\s.+Capacidade.+>(\\d+).+População', str(penitenciária))\n",
    "        bd_dic['ARSA_CAP'].append(m.group(1))\n",
    "    except:\n",
    "        bd_dic['ARSA_CAP'].append(np.nan)\n",
    "bd_dic['ARSA_CAP']"
   ]
  },
  {
   "cell_type": "code",
   "execution_count": 80,
   "metadata": {},
   "outputs": [],
   "source": [
    "bd_dic['ARSA_POP'] = []"
   ]
  },
  {
   "cell_type": "code",
   "execution_count": 81,
   "metadata": {},
   "outputs": [
    {
     "data": {
      "text/plain": [
       "['68',\n",
       " '126',\n",
       " '35',\n",
       " nan,\n",
       " '79',\n",
       " '94',\n",
       " '80',\n",
       " nan,\n",
       " '72',\n",
       " '61',\n",
       " '55',\n",
       " nan,\n",
       " nan,\n",
       " '215',\n",
       " '67',\n",
       " nan,\n",
       " '79',\n",
       " '52',\n",
       " '84',\n",
       " '59',\n",
       " '75',\n",
       " '237']"
      ]
     },
     "execution_count": 81,
     "metadata": {},
     "output_type": "execute_result"
    }
   ],
   "source": [
    "for penitenciária in [tag for tag in cr]:\n",
    "    try:\n",
    "        m = re.search(r'Anexo de regime semiaberto.+\\s.+População.+>(\\d+)', str(penitenciária))\n",
    "        bd_dic['ARSA_POP'].append(m.group(1))\n",
    "    except:\n",
    "        bd_dic['ARSA_POP'].append(np.nan)\n",
    "bd_dic['ARSA_POP']"
   ]
  },
  {
   "cell_type": "code",
   "execution_count": 82,
   "metadata": {},
   "outputs": [],
   "source": [
    "bd = pd.DataFrame(bd_dic, index=np.array(range(1,len(cr)+1)), columns = ['NOME', 'COO', 'CAP', 'POP', 'ARSA_CAP', 'ARSA_POP'])"
   ]
  },
  {
   "cell_type": "code",
   "execution_count": 83,
   "metadata": {},
   "outputs": [],
   "source": [
    "bd.to_excel(writer, 'CR')"
   ]
  },
  {
   "cell_type": "markdown",
   "metadata": {},
   "source": [
    "# RDD"
   ]
  },
  {
   "cell_type": "code",
   "execution_count": 84,
   "metadata": {},
   "outputs": [],
   "source": [
    "driver.get(\"http://www.sap.sp.gov.br/uni-prisionais/usm.html#\")"
   ]
  },
  {
   "cell_type": "code",
   "execution_count": 85,
   "metadata": {},
   "outputs": [],
   "source": [
    "page = BeautifulSoup(driver.page_source, 'html.parser')"
   ]
  },
  {
   "cell_type": "code",
   "execution_count": 86,
   "metadata": {},
   "outputs": [],
   "source": [
    "# Setor onde se localizam os dados\n",
    "\n",
    "rdd = page.find_all('div', class_ = 'f-out')"
   ]
  },
  {
   "cell_type": "code",
   "execution_count": 87,
   "metadata": {},
   "outputs": [
    {
     "data": {
      "text/plain": [
       "1"
      ]
     },
     "execution_count": 87,
     "metadata": {},
     "output_type": "execute_result"
    }
   ],
   "source": [
    "len(rdd)"
   ]
  },
  {
   "cell_type": "code",
   "execution_count": 88,
   "metadata": {
    "scrolled": true
   },
   "outputs": [
    {
     "data": {
      "text/plain": [
       "<div class=\"f-out\" id=\"dados-uni46\">\n",
       "<h3>Centro de Readaptação Penitenciária \"Dr. José Ismael Pedrosa\" de Presidente Bernardes<br/> (M e F)</h3>\n",
       "<h4>Coordenadoria da Região Oeste</h4>\n",
       "<p class=\"dados\">\n",
       "<span class=\"cor-dados\">Endereço:</span>\tRod. Raposo Tavares, km 586<br/>\n",
       "<span class=\"cor-dados\">CEP: </span> 19300-000 - Caixa Postal 81 - Presidente Bernardes - SP<br/>\n",
       "<span class=\"cor-dados\">E-mail: </span><a class=\"inline\" href=\"mailto:lcorlando@sp.gov.br\">lcorlando@sp.gov.br</a> <br/>\n",
       "<span class=\"cor-dados\">Fone: </span>(18) 3262-6669  <span class=\"cor-dados\">Fax: </span> (18) 3262-6669 r 110<br/>\n",
       "<span class=\"cor-ult\"><script type=\"text/javascript\">document.write(data);</script><b>População prisional</b> - data: 20/nov</span><br/>\n",
       "<span class=\"cor-ala\">Masculino</span> <br/>\n",
       "<span class=\"cor-dados\">Capacidade: </span> <script type=\"text/javascript\">document.write(capcrppber);</script>145   <span class=\"cor-dados\">População: </span> <script type=\"text/javascript\">document.write(crppber);</script>84<br/>\n",
       "<span class=\"cor-ala\">Feminino</span> <br/>\n",
       "<span class=\"cor-dados\"> Capacidade:</span> <script type=\"text/javascript\">document.write(capcrpfpbernades);</script>40\t   <span class=\"cor-dados\">População:</span> <script type=\"text/javascript\">document.write(crpfpbernades);</script>1\t               \n",
       "                      \n",
       "  </p>\n",
       "<p class=\"ficha\">Ficha Técnica</p>\n",
       "<p class=\"dados\">\n",
       "<span class=\"cor-dados\">Área construida: </span>7.065,92 m²<br/>\n",
       "<span class=\"cor-dados\">Data de inauguração: </span>02/04/2002 <br/>\n",
       "<span class=\"cor-dados\">Regime: </span> disciplinar diferenciado\n",
       "        </p>\n",
       "<p class=\"gmaps\"><a href=\"https://www.google.com/maps/d/viewer?hl=pt-BR&amp;authuser=0&amp;mid=1jKJ4_4Beu812Jkdq0g6NB6R9shE&amp;ll=-22.0442187%2C-51.566975699999944&amp;z=15\" target=\"_blank\">Google Maps <img src=\"../Img/icon-gmaps.jpg\"/></a></p>\n",
       "<p class=\"fechar\"><a class=\"btn1\"> <img alt=\"Fechar janela\" height=\"19\" src=\"../Img/botaoFechar.png\" width=\"60\"/></a></p>\n",
       "</div>"
      ]
     },
     "execution_count": 88,
     "metadata": {},
     "output_type": "execute_result"
    }
   ],
   "source": [
    "rdd[0]"
   ]
  },
  {
   "cell_type": "code",
   "execution_count": 89,
   "metadata": {},
   "outputs": [],
   "source": [
    "# Criando o dicionário da base de dados\n",
    "\n",
    "bd_dic = {}"
   ]
  },
  {
   "cell_type": "code",
   "execution_count": 90,
   "metadata": {},
   "outputs": [],
   "source": [
    "# Criando a variável dos nomes\n",
    "\n",
    "bd_dic['NOME'] = []"
   ]
  },
  {
   "cell_type": "code",
   "execution_count": 91,
   "metadata": {},
   "outputs": [
    {
     "data": {
      "text/plain": [
       "['Centro de Readaptação Penitenciária \"Dr. José Ismael Pedrosa\" de Presidente Bernardes (M e F)']"
      ]
     },
     "execution_count": 91,
     "metadata": {},
     "output_type": "execute_result"
    }
   ],
   "source": [
    "# Extraindo o nome dos presídios e colocando no dicionário\n",
    "\n",
    "for penitenciária in list(tag for tag in rdd):\n",
    "    bd_dic['NOME'].append(penitenciária.find('h3').get_text().strip())\n",
    "    \n",
    "bd_dic['NOME']"
   ]
  },
  {
   "cell_type": "code",
   "execution_count": 92,
   "metadata": {},
   "outputs": [],
   "source": [
    "# Criando a variável das Coordenadorias\n",
    "\n",
    "bd_dic['COO'] = []"
   ]
  },
  {
   "cell_type": "code",
   "execution_count": 93,
   "metadata": {},
   "outputs": [
    {
     "data": {
      "text/plain": [
       "['Coordenadoria da Região Oeste']"
      ]
     },
     "execution_count": 93,
     "metadata": {},
     "output_type": "execute_result"
    }
   ],
   "source": [
    "# Extraindo o nome das coordenadorias e colocando no dicionário\n",
    "\n",
    "for penitenciária in  [tag for tag in rdd]:\n",
    "    bd_dic['COO'].append(penitenciária.find('h4').get_text().strip())\n",
    "\n",
    "bd_dic['COO']"
   ]
  },
  {
   "cell_type": "code",
   "execution_count": 94,
   "metadata": {},
   "outputs": [],
   "source": [
    "bd_dic['CAP_M'] = []"
   ]
  },
  {
   "cell_type": "code",
   "execution_count": 95,
   "metadata": {},
   "outputs": [
    {
     "data": {
      "text/plain": [
       "['145']"
      ]
     },
     "execution_count": 95,
     "metadata": {},
     "output_type": "execute_result"
    }
   ],
   "source": [
    "for penitenciária in [tag for tag in rdd]:\n",
    "    m = re.search(r'Masculino.+\\n.+\\>(\\d+).+População', str(penitenciária))\n",
    "    bd_dic['CAP_M'].append(m.group(1))\n",
    "bd_dic['CAP_M']"
   ]
  },
  {
   "cell_type": "code",
   "execution_count": 96,
   "metadata": {},
   "outputs": [],
   "source": [
    "bd_dic['POP_M'] = []"
   ]
  },
  {
   "cell_type": "code",
   "execution_count": 97,
   "metadata": {},
   "outputs": [
    {
     "data": {
      "text/plain": [
       "['84']"
      ]
     },
     "execution_count": 97,
     "metadata": {},
     "output_type": "execute_result"
    }
   ],
   "source": [
    "for penitenciária in [tag for tag in rdd]:\n",
    "    m = re.search(r'Masculino.+\\n.+Capacidade:.+\\>(\\d+)', str(penitenciária))\n",
    "    bd_dic['POP_M'].append(m.group(1))\n",
    "    \n",
    "bd_dic['POP_M']"
   ]
  },
  {
   "cell_type": "code",
   "execution_count": 98,
   "metadata": {},
   "outputs": [],
   "source": [
    "bd_dic['CAP_F'] = []"
   ]
  },
  {
   "cell_type": "code",
   "execution_count": 99,
   "metadata": {},
   "outputs": [
    {
     "data": {
      "text/plain": [
       "['40']"
      ]
     },
     "execution_count": 99,
     "metadata": {},
     "output_type": "execute_result"
    }
   ],
   "source": [
    "for penitenciária in [tag for tag in rdd]:\n",
    "    m = re.search(r'Feminino.+\\n.+\\>(\\d+).+População', str(penitenciária))\n",
    "    bd_dic['CAP_F'].append(m.group(1))\n",
    "bd_dic['CAP_F']"
   ]
  },
  {
   "cell_type": "code",
   "execution_count": 100,
   "metadata": {},
   "outputs": [],
   "source": [
    "bd_dic['POP_F'] = []"
   ]
  },
  {
   "cell_type": "code",
   "execution_count": 101,
   "metadata": {},
   "outputs": [
    {
     "data": {
      "text/plain": [
       "['1']"
      ]
     },
     "execution_count": 101,
     "metadata": {},
     "output_type": "execute_result"
    }
   ],
   "source": [
    "for penitenciária in [tag for tag in rdd]:\n",
    "    m = re.search(r'Feminino.+\\n.+Capacidade:.+\\>(\\d+)', str(penitenciária))\n",
    "    bd_dic['POP_F'].append(m.group(1))\n",
    "    \n",
    "bd_dic['POP_F']"
   ]
  },
  {
   "cell_type": "code",
   "execution_count": 102,
   "metadata": {},
   "outputs": [
    {
     "data": {
      "text/plain": [
       "1"
      ]
     },
     "execution_count": 102,
     "metadata": {},
     "output_type": "execute_result"
    }
   ],
   "source": [
    "bd = pd.DataFrame(bd_dic, index=np.array(range(1,len(rdd)+1)), columns = ['NOME', 'COO', 'CAP_M', 'POP_M', 'CAP_F', 'POP_F'])\n",
    "len(bd)"
   ]
  },
  {
   "cell_type": "code",
   "execution_count": 103,
   "metadata": {},
   "outputs": [],
   "source": [
    "bd.to_excel(writer, 'RDD')"
   ]
  },
  {
   "cell_type": "markdown",
   "metadata": {},
   "source": [
    "# PEN"
   ]
  },
  {
   "cell_type": "code",
   "execution_count": 104,
   "metadata": {},
   "outputs": [],
   "source": [
    "driver.get(\"http://www.sap.sp.gov.br/uni-prisionais/pen.html#\")"
   ]
  },
  {
   "cell_type": "code",
   "execution_count": 105,
   "metadata": {},
   "outputs": [],
   "source": [
    "page = BeautifulSoup(driver.page_source, 'html.parser')"
   ]
  },
  {
   "cell_type": "code",
   "execution_count": 106,
   "metadata": {},
   "outputs": [],
   "source": [
    "# Setor onde se localizam os dados\n",
    "\n",
    "pen = page.find_all('div', class_ = 'f-out')"
   ]
  },
  {
   "cell_type": "code",
   "execution_count": 107,
   "metadata": {},
   "outputs": [
    {
     "data": {
      "text/plain": [
       "86"
      ]
     },
     "execution_count": 107,
     "metadata": {},
     "output_type": "execute_result"
    }
   ],
   "source": [
    "len(pen)"
   ]
  },
  {
   "cell_type": "code",
   "execution_count": 108,
   "metadata": {
    "scrolled": true
   },
   "outputs": [
    {
     "data": {
      "text/plain": [
       "<div class=\"f-out\" id=\"dados-uni107\">\n",
       "<h3>\tPenit. de Lucélia</h3>\n",
       "<h4>Coordenadoria da Região Oeste</h4>\n",
       "<p class=\"dados\">\n",
       "<span class=\"cor-dados\">Endereço: </span>Estrada Vicinal Paschoal Milton Lentini Km 12 - Bairro União<br/>\n",
       "<span class=\"cor-dados\">CEP: </span> 17780-000 - Caixa Postal 91  - Lucélia - SP<br/>\n",
       "<span class=\"cor-dados\">E-mail: </span><a class=\"inline\" href=\"mailto:penitenciaria@penitlucelia.sap.sp.gov.br\">penitenciaria@penitlucelia.sap.sp.gov.br</a> <br/>\n",
       "<span class=\"cor-dados\">Fone: </span>(18) 3551-3000  <span class=\"cor-dados\">Fax: </span>(18) 3551-3309<br/>\n",
       "<span class=\"cor-ult\"><script type=\"text/javascript\">document.write(data);</script><b>População prisional</b> - data: 20/nov</span><br/>\n",
       "<span class=\"cor-dados\">Capacidade: </span> <script type=\"text/javascript\">document.write(cappenluci);</script>1440   <span class=\"cor-dados\">População: </span> <script type=\"text/javascript\">document.write(penluci);</script>0<br/>\n",
       "<span class=\"cor-ala\">Ala de Progressão Penitenciária</span> <br/>\n",
       "<span class=\"cor-dados\"> Capacidade:</span> <script type=\"text/javascript\">document.write(cappenluciapp);</script>110\t   <span class=\"cor-dados\">População:</span> <script type=\"text/javascript\">document.write(penluciapp);</script>111\t              \n",
       "               </p>\n",
       "<p class=\"ficha\">Ficha Técnica</p>\n",
       "<p class=\"dados\">\n",
       "<span class=\"cor-dados\">Área construida: </span>15.220 m²<br/>\n",
       "<span class=\"cor-dados\">Data de inauguração: </span>04/12/1998 <br/>\n",
       "<span class=\"cor-dados\">Regime: </span> fechado e semiaberto \n",
       "        </p>\n",
       "<p class=\"gmaps\"><a href=\"https://www.google.com/maps/d/viewer?hl=pt-BR&amp;authuser=0&amp;mid=1jKJ4_4Beu812Jkdq0g6NB6R9shE&amp;ll=-21.616014500000006%2C-50.978346999999985&amp;z=15\" target=\"_blank\">Google Maps <img src=\"../Img/icon-gmaps.jpg\"/></a></p>\n",
       "<p class=\"fechar-ala\"><a class=\"btn1\"> <img alt=\"Fechar janela\" height=\"19\" src=\"../Img/botaoFechar.png\" width=\"60\"/></a></p>\n",
       "</div>"
      ]
     },
     "execution_count": 108,
     "metadata": {},
     "output_type": "execute_result"
    }
   ],
   "source": [
    "pen[36]"
   ]
  },
  {
   "cell_type": "code",
   "execution_count": 109,
   "metadata": {},
   "outputs": [],
   "source": [
    "# Criando o dicionário da base de dados\n",
    "\n",
    "bd_dic = {}"
   ]
  },
  {
   "cell_type": "code",
   "execution_count": 110,
   "metadata": {},
   "outputs": [],
   "source": [
    "# Criando a variável dos nomes\n",
    "\n",
    "bd_dic['NOME'] = []"
   ]
  },
  {
   "cell_type": "code",
   "execution_count": 111,
   "metadata": {},
   "outputs": [
    {
     "data": {
      "text/plain": [
       "['Penit. \"Valentim Alves da Silva\" de Álvaro de Carvalho',\n",
       " 'Penit. de Andradina',\n",
       " 'Penit. \"Dr. Sebastião Martins Silveira\" de Araraquara',\n",
       " 'Penit. de Assis',\n",
       " 'Penit. de Avanhandava',\n",
       " 'Penit. I \"Dr. Paulo Luciano Campos\" de Avaré',\n",
       " 'Penit. II \"Nelson Marcondes do Amaral\" de Avaré',\n",
       " 'Penit. I \"Rodrigo dos Santos Freitas\" de Balbinos',\n",
       " 'Penit. II \"Gilmar Monteiro de Souza\" de Balbinos',\n",
       " 'Penit. Feminina de Campinas',\n",
       " 'Penit. \"Joaquim de Sylos Cintra\" de Casa Branca',\n",
       " 'Penit. \"Asp Adriano Aparecido de Pieri\" de Dracena',\n",
       " 'Penit. de Flórida Paulista',\n",
       " 'Penit. de Franca',\n",
       " 'Penit. I \"Mário Moura Albuquerque\" de Franco da Rocha',\n",
       " 'Penit. II \"Nilton Silva\" de Franco da Rocha',\n",
       " 'Penit. III  \"José Aparecido Ribeiro\" de Franco da Rocha',\n",
       " 'Penit. \"Osiris Souza e Silva\" de Getulina',\n",
       " 'Penit. I \"Nelson Vieira\" de Guareí',\n",
       " 'Penit. II de Guareí',\n",
       " 'Penit. I \"José Parada Neto\" de Guarulhos',\n",
       " 'Penit. II \"Desembargador Adriano Marrey\" de Guarulhos',\n",
       " 'Penit. II \"Odete Leite de Campos Critter\" de Hortolândia',\n",
       " 'Penit. III de Hortolândia',\n",
       " 'Penit. \"Orlando Brando Filinto\" de Iaras',\n",
       " 'Penit. \"Odon Ramos Maranhão\" de Iperó',\n",
       " 'Penit. de Irapuru',\n",
       " 'Penit. \"Cabo PM Marcelo Pires da Silva\" de Itaí',\n",
       " 'Penit. I  \"Jairo de Almeida Bueno\" de Itapetininga',\n",
       " 'Penit. II \"ASP Maria Filomena de Sousa Dias\" de Itapetininga',\n",
       " 'Penit. I  \"Dr. Antônio de Queiróz Filho\" de Itirapina',\n",
       " 'Penit. II \"João Batista de Arruda Sampaio\" de Itirapina',\n",
       " 'Penit. de Junqueirópolis',\n",
       " 'Penit. I \"Vereador Frederico Geometti\" de Lavínia',\n",
       " 'Penit. II \"Luis Aparecido Fernandes\" de Lavínia',\n",
       " 'Penit. III \"ASP Paulo Guimarães\" de Lavínia',\n",
       " 'Penit. de Lucélia',\n",
       " 'Penit. \"João Augustinho Panucci\" de Marabá Paulista',\n",
       " 'Penit. de Marília',\n",
       " 'Penit. \"Tacyan Menezes de Lucena\" de Martinópolis',\n",
       " 'Penit. I \"Nestor Canoa\"  de Mirandópolis',\n",
       " 'Penit. II \"ASP Lindolfo Terçariol Filho\" de Mirandópolis',\n",
       " 'Penit. de Osvaldo Cruz',\n",
       " 'Penit. \"Ozias Lúcio dos Santos\" de Pacaembu',\n",
       " 'Penit. de Paraguaçu Paulista',\n",
       " 'Penit. I  \"Dr. Walter Faria Pereira de Queiroz\"  de Pirajuí',\n",
       " 'Penit. II \"Luiz Gonzaga Vieira\" de  Pirajuí',\n",
       " 'Penit. I “AEVP Jair Guimarães de Lima” de Potim',\n",
       " 'Penit. II de Potim',\n",
       " 'Penit. de Pracinha',\n",
       " 'Penit. \"Silvio Yoshihiko Hinohara\" de Presidente Bernardes',\n",
       " 'Penit. \"Wellington Rodrigo Segura\" de Presidente Prudente',\n",
       " 'Penit. I \"Zwinglio Ferreira\"  de Presidente Venceslau',\n",
       " 'Penit. II \"Maurício Henrique Guimarães Pereira\" de Presidente Venceslau',\n",
       " 'Penit. I \"Tenente PM José Alfredo Cintra Borin\" de Reginópolis',\n",
       " 'Penit. II \"Sgto. PM Antonio Luiz de Souza\"  de Reginópolis',\n",
       " 'Penit. de Ribeirão Preto',\n",
       " 'Penit. Feminina de Ribeirão Preto',\n",
       " 'Penit. \"João Batista de Santana\" de Riolândia',\n",
       " 'Penit. Feminina da Capital',\n",
       " 'Penit. \"ASP Joaquim Fonseca Lopes\" de  Parelheiros',\n",
       " \"Penit. Feminina de Sant'Ana\",\n",
       " 'Penit. I \"Dr. Geraldo de Andrade Vieira\" de São Vicente',\n",
       " 'Penit. II de São Vicente',\n",
       " 'Penit. I de Serra Azul',\n",
       " 'Penit. II de Serra Azul',\n",
       " 'Penit. I \"Dr. Danilo Pinheiro\" de Sorocaba',\n",
       " 'Penit. II \"Dr. Antonio de Souza Neto\" de Sorocaba',\n",
       " 'Penit. Feminina I \"Santa Maria Eufrásia Pelletier\" de Tremembé',\n",
       " 'Penit. Feminina II de Tremembé',\n",
       " 'Penit. I \"Tarcizo Leonce Pinheiro Cintra\"  de Tremembé',\n",
       " 'Penit. II \"Dr. José Augusto César Salgado\" de Tremembé',\n",
       " 'Penit. de Tupi Paulista',\n",
       " 'Penit. Feminina de Tupi Paulista',\n",
       " 'Penit. de Valparaíso',\n",
       " 'Penit. Feminina \"Sandra Aparecida Lario Vianna\" de Pirajuí',\n",
       " 'Penit. de Cerqueira César',\n",
       " 'Penit. de Capela do Alto',\n",
       " 'Penit. de Bernardino de Campos',\n",
       " 'Penit. de Taquarituba',\n",
       " 'Penit. de Mairinque',\n",
       " 'Penit. Feminina de Mogi Guaçu',\n",
       " 'Penit. de Florínea',\n",
       " 'Penit. de Piracicaba',\n",
       " 'Penit. Feminina de Votorantim',\n",
       " 'Penit. Feminina de Guariba']"
      ]
     },
     "execution_count": 111,
     "metadata": {},
     "output_type": "execute_result"
    }
   ],
   "source": [
    "# Extraindo o nome dos presídios e colocando no dicionário\n",
    "\n",
    "for penitenciária in list(tag for tag in pen):\n",
    "    bd_dic['NOME'].append(penitenciária.find('h3').get_text().strip())\n",
    "    \n",
    "bd_dic['NOME']"
   ]
  },
  {
   "cell_type": "code",
   "execution_count": 112,
   "metadata": {},
   "outputs": [],
   "source": [
    "# Criando a variável das Coordenadorias\n",
    "\n",
    "bd_dic['COO'] = []"
   ]
  },
  {
   "cell_type": "code",
   "execution_count": 113,
   "metadata": {},
   "outputs": [
    {
     "data": {
      "text/plain": [
       "['Coordenadoria da Região Noroeste',\n",
       " 'Coordenadoria da Região Oeste',\n",
       " 'Coordenadoria da Região Noroeste',\n",
       " 'Coordenadoria da Região Oeste',\n",
       " 'Coordenadoria da Região Noroeste',\n",
       " 'Coordenadoria da Região Noroeste',\n",
       " 'Coordenadoria da Região Noroeste',\n",
       " 'Coordenadoria da Região Noroeste',\n",
       " 'Coordenadoria da Região Noroeste',\n",
       " 'Coordenadoria da Região Central',\n",
       " 'Coordenadoria da Região Central',\n",
       " 'Coordenadoria da Região Oeste',\n",
       " 'Coordenadoria da Região Oeste',\n",
       " 'Coordenadoria da Região Noroeste',\n",
       " 'Coordenadoria da Capital e Grande São Paulo',\n",
       " 'Coordenadoria da Capital e Grande São Paulo',\n",
       " 'Coordenadoria da Capital e Grande São Paulo',\n",
       " 'Coordenadoria da Região Noroeste',\n",
       " 'Coordenadoria da Região Central',\n",
       " 'Coordenadoria da Região Central',\n",
       " 'Coordenadoria da Capital e Grande São Paulo',\n",
       " 'Coordenadoria da Capital e Grande São Paulo',\n",
       " 'Coordenadoria da Região Central',\n",
       " 'Coordenadoria da Região Central',\n",
       " 'Coordenadoria da Região Noroeste',\n",
       " 'Coordenadoria da Região Central',\n",
       " 'Coordenadoria da Região Oeste',\n",
       " 'Coordenadoria da Região Noroeste',\n",
       " 'Coordenadoria da Região Central',\n",
       " 'Coordenadoria da Região Central',\n",
       " 'Coordenadoria da Região Central',\n",
       " 'Coordenadoria da Região Central',\n",
       " 'Coordenadoria da Região Oeste',\n",
       " 'Coordenadoria da Região Oeste',\n",
       " 'Coordenadoria da Região Oeste',\n",
       " 'Coordenadoria da Região Oeste',\n",
       " 'Coordenadoria da Região Oeste',\n",
       " 'Coordenadoria da Região Oeste',\n",
       " 'Coordenadoria da Região Noroeste',\n",
       " 'Coordenadoria da Região Oeste',\n",
       " 'Coordenadoria da Região Oeste',\n",
       " 'Coordenadoria da Região Oeste',\n",
       " 'Coordenadoria da Região Oeste',\n",
       " 'Coordenadoria da Região Oeste',\n",
       " 'Coordenadoria da Região Oeste',\n",
       " 'Coordenadoria da Região Noroeste',\n",
       " 'Coordenadoria da Região Noroeste',\n",
       " 'Coordenadoria do Vale do Paraíba e Litoral',\n",
       " 'Coordenadoria do Vale do Paraíba e Litoral',\n",
       " 'Coordenadoria da Região Oeste',\n",
       " 'Coordenadoria da Região Oeste',\n",
       " 'Coordenadoria da Região Oeste',\n",
       " 'Coordenadoria da Região Oeste',\n",
       " 'Coordenadoria da Região Oeste',\n",
       " 'Coordenadoria da Região Noroeste',\n",
       " 'Coordenadoria da Região Noroeste',\n",
       " 'Coordenadoria da Região Noroeste',\n",
       " 'Coordenadoria da Região Noroeste',\n",
       " 'Coordenadoria da Região Oeste',\n",
       " 'Coordenadoria da Capital e Grande São Paulo',\n",
       " 'Coordenadoria da Capital e Grande São Paulo',\n",
       " 'Coordenadoria da Capital e Grande São Paulo',\n",
       " 'Coordenadoria do Vale do Paraíba e Litoral',\n",
       " 'Coordenadoria do Vale do Paraíba e Litoral',\n",
       " 'Coordenadoria da Região Noroeste',\n",
       " 'Coordenadoria da Região Noroeste',\n",
       " 'Coordenadoria da Região Central',\n",
       " 'Coordenadoria da Região Central',\n",
       " 'Coordenadoria do Vale do Paraíba e Litoral',\n",
       " 'Coordenadoria do Vale do Paraíba e Litoral',\n",
       " 'Coordenadoria do Vale do Paraíba e Litoral',\n",
       " 'Coordenadoria do Vale do Paraíba e Litoral',\n",
       " 'Coordenadoria da Região Oeste',\n",
       " 'Coordenadoria da Região Oeste',\n",
       " 'Coordenadoria da Região Oeste',\n",
       " 'Coordenadoria da Região Noroeste',\n",
       " 'Coordenadoria da Região Noroeste',\n",
       " 'Coordenadoria da Região Central',\n",
       " 'Coordenadoria da Região Noroeste',\n",
       " 'Coordenadoria da Região Noroeste',\n",
       " 'Coordenadoria da Região Central',\n",
       " 'Coordenadoria da Região Central',\n",
       " 'Coordenadoria da Região Oeste',\n",
       " 'Coordenadoria da Região Central',\n",
       " 'Coordenadoria da Região Central',\n",
       " 'Coordenadoria da Região Noroeste']"
      ]
     },
     "execution_count": 113,
     "metadata": {},
     "output_type": "execute_result"
    }
   ],
   "source": [
    "# Extraindo o nome das coordenadorias e colocando no dicionário\n",
    "\n",
    "for penitenciária in  [tag for tag in pen]:\n",
    "    bd_dic['COO'].append(penitenciária.find('h4').get_text().strip())\n",
    "\n",
    "bd_dic['COO']"
   ]
  },
  {
   "cell_type": "code",
   "execution_count": 114,
   "metadata": {},
   "outputs": [],
   "source": [
    "bd_dic['CAP'] = []"
   ]
  },
  {
   "cell_type": "code",
   "execution_count": 115,
   "metadata": {},
   "outputs": [
    {
     "data": {
      "text/plain": [
       "['873',\n",
       " '875',\n",
       " '1061',\n",
       " '829',\n",
       " '844',\n",
       " '882',\n",
       " '918',\n",
       " '844',\n",
       " '844',\n",
       " '556',\n",
       " '926',\n",
       " '844',\n",
       " '844',\n",
       " '847',\n",
       " '914',\n",
       " '921',\n",
       " '1018',\n",
       " '857',\n",
       " '844',\n",
       " '844',\n",
       " '881',\n",
       " '1268',\n",
       " '855',\n",
       " '700',\n",
       " '1269',\n",
       " '1286',\n",
       " '844',\n",
       " '1294',\n",
       " '839',\n",
       " '834',\n",
       " '316',\n",
       " '1280',\n",
       " '873',\n",
       " '844',\n",
       " '844',\n",
       " '844',\n",
       " '1440',\n",
       " '844',\n",
       " '622',\n",
       " '872',\n",
       " '1244',\n",
       " '1247',\n",
       " '844',\n",
       " '873',\n",
       " '844',\n",
       " '550',\n",
       " '1310',\n",
       " '844',\n",
       " '844',\n",
       " '844',\n",
       " '1247',\n",
       " '696',\n",
       " '781',\n",
       " '1280',\n",
       " '844',\n",
       " '844',\n",
       " '865',\n",
       " '303',\n",
       " '865',\n",
       " '606',\n",
       " '938',\n",
       " '2696',\n",
       " '345',\n",
       " '862',\n",
       " '853',\n",
       " '856',\n",
       " '281',\n",
       " '757',\n",
       " '227',\n",
       " '796',\n",
       " '1258',\n",
       " '408',\n",
       " '844',\n",
       " '718',\n",
       " '873',\n",
       " '718',\n",
       " '847',\n",
       " '847',\n",
       " '847',\n",
       " '847',\n",
       " '847',\n",
       " '741',\n",
       " '847',\n",
       " '847',\n",
       " '734',\n",
       " '744']"
      ]
     },
     "execution_count": 115,
     "metadata": {},
     "output_type": "execute_result"
    }
   ],
   "source": [
    "for penitenciária in [tag for tag in pen]:\n",
    "    m = re.search(r'data:.+\\s+.+Capacidade:.+>(\\d+).+População', str(penitenciária))\n",
    "    bd_dic['CAP'].append(m.group(1))\n",
    "\n",
    "bd_dic['CAP']"
   ]
  },
  {
   "cell_type": "code",
   "execution_count": 116,
   "metadata": {},
   "outputs": [],
   "source": [
    "bd_dic['POP'] = []"
   ]
  },
  {
   "cell_type": "code",
   "execution_count": 117,
   "metadata": {},
   "outputs": [
    {
     "data": {
      "text/plain": [
       "['1613',\n",
       " '1343',\n",
       " '1034',\n",
       " '492',\n",
       " '1449',\n",
       " '406',\n",
       " '1140',\n",
       " '1435',\n",
       " '1786',\n",
       " '458',\n",
       " '1802',\n",
       " '1600',\n",
       " '1924',\n",
       " '1961',\n",
       " '1953',\n",
       " '1847',\n",
       " '1860',\n",
       " '1815',\n",
       " '1794',\n",
       " '1952',\n",
       " '2281',\n",
       " '2070',\n",
       " '1673',\n",
       " '1455',\n",
       " '2220',\n",
       " '2213',\n",
       " '1986',\n",
       " '1076',\n",
       " '1797',\n",
       " '1783',\n",
       " '772',\n",
       " '2389',\n",
       " '2148',\n",
       " '2040',\n",
       " '2099',\n",
       " '2130',\n",
       " '0',\n",
       " '1814',\n",
       " '1323',\n",
       " '2126',\n",
       " '2299',\n",
       " '2231',\n",
       " '1825',\n",
       " '2134',\n",
       " '1556',\n",
       " '1255',\n",
       " '2036',\n",
       " '1890',\n",
       " '1872',\n",
       " '1920',\n",
       " '2222',\n",
       " '1312',\n",
       " '833',\n",
       " '801',\n",
       " '1310',\n",
       " '1611',\n",
       " '1910',\n",
       " '78',\n",
       " '1808',\n",
       " '513',\n",
       " '1583',\n",
       " '2029',\n",
       " '544',\n",
       " '1566',\n",
       " '1901',\n",
       " '1899',\n",
       " '678',\n",
       " '2053',\n",
       " '276',\n",
       " '643',\n",
       " '1879',\n",
       " '367',\n",
       " '1861',\n",
       " '681',\n",
       " '1919',\n",
       " '641',\n",
       " '1802',\n",
       " '1855',\n",
       " '1702',\n",
       " '1666',\n",
       " '1544',\n",
       " '655',\n",
       " '1733',\n",
       " '1741',\n",
       " '560',\n",
       " '677']"
      ]
     },
     "execution_count": 117,
     "metadata": {},
     "output_type": "execute_result"
    }
   ],
   "source": [
    "for penitenciária in [tag for tag in pen]:\n",
    "    m = re.search(r'data:.+\\s+.+População.+>(\\d+)', str(penitenciária))\n",
    "    bd_dic['POP'].append(m.group(1))\n",
    "\n",
    "bd_dic['POP']"
   ]
  },
  {
   "cell_type": "code",
   "execution_count": 118,
   "metadata": {},
   "outputs": [],
   "source": [
    "bd_dic['TIPO_A'] = []"
   ]
  },
  {
   "cell_type": "code",
   "execution_count": 119,
   "metadata": {},
   "outputs": [
    {
     "data": {
      "text/plain": [
       "['Ala de Progressão Penitenciária',\n",
       " nan,\n",
       " 'Ala de Progressão Penitenciária',\n",
       " 'Anexo de Detenção Provisória',\n",
       " nan,\n",
       " nan,\n",
       " nan,\n",
       " nan,\n",
       " nan,\n",
       " nan,\n",
       " 'Ala de Progressão Penitenciária',\n",
       " nan,\n",
       " nan,\n",
       " nan,\n",
       " 'Ala de Progressão Penitenciária',\n",
       " nan,\n",
       " nan,\n",
       " nan,\n",
       " nan,\n",
       " nan,\n",
       " 'Anexo de regime semiaberto',\n",
       " nan,\n",
       " nan,\n",
       " nan,\n",
       " 'Ala de Progressão Penitenciária',\n",
       " 'Anexo de Detenção Provisória',\n",
       " nan,\n",
       " 'Ala de Progressão Penitenciária',\n",
       " 'Ala de Progressão Penitenciária',\n",
       " 'Ala de Progressão Penitenciária',\n",
       " 'Anexo de regime semiaberto',\n",
       " 'Ala de Progressão Penitenciária',\n",
       " nan,\n",
       " nan,\n",
       " nan,\n",
       " nan,\n",
       " 'Ala de Progressão Penitenciária',\n",
       " nan,\n",
       " 'Anexo de regime semiaberto',\n",
       " nan,\n",
       " 'Anexo de regime semiaberto',\n",
       " nan,\n",
       " nan,\n",
       " nan,\n",
       " nan,\n",
       " nan,\n",
       " 'Ala de Progressão Penitenciária',\n",
       " nan,\n",
       " 'Ala de Progressão Penitenciária',\n",
       " nan,\n",
       " 'Ala de Progressão Penitenciária',\n",
       " 'Anexo de regime semiaberto',\n",
       " 'Ala de Progressão Penitenciária',\n",
       " nan,\n",
       " nan,\n",
       " nan,\n",
       " 'Ala de Progressão Penitenciária',\n",
       " 'Ala de Progressão Penitenciária',\n",
       " nan,\n",
       " nan,\n",
       " nan,\n",
       " nan,\n",
       " 'Anexo de Detenção Provisória',\n",
       " 'Ala de Progressão Penitenciária',\n",
       " nan,\n",
       " nan,\n",
       " 'Anexo de regime semiaberto',\n",
       " 'Anexo de regime semiaberto',\n",
       " 'Ala de Progressão Penitenciária',\n",
       " 'Ala de Progressão Penitenciária',\n",
       " 'Ala de Progressão Penitenciária',\n",
       " 'Ala de Progressão Penitenciária',\n",
       " nan,\n",
       " 'Ala de Progressão Penitenciária',\n",
       " nan,\n",
       " 'Ala de Progressão Penitenciária',\n",
       " nan,\n",
       " nan,\n",
       " nan,\n",
       " nan,\n",
       " nan,\n",
       " 'Ala de Progressão Penitenciária',\n",
       " nan,\n",
       " nan,\n",
       " 'Ala de Progressão Penitenciária',\n",
       " 'Ala de Progressão Penitenciária']"
      ]
     },
     "execution_count": 119,
     "metadata": {},
     "output_type": "execute_result"
    }
   ],
   "source": [
    "for penitenciária in [tag for tag in pen]:\n",
    "    try:\n",
    "        m = re.search(r'cor-ala.+>(.+)<\\/', str(penitenciária))\n",
    "        bd_dic['TIPO_A'].append(m.group(1))\n",
    "    except:\n",
    "        bd_dic['TIPO_A'].append(np.nan)\n",
    "bd_dic['TIPO_A']"
   ]
  },
  {
   "cell_type": "code",
   "execution_count": 120,
   "metadata": {},
   "outputs": [],
   "source": [
    "bd_dic['CAP_A'] = []"
   ]
  },
  {
   "cell_type": "code",
   "execution_count": 121,
   "metadata": {},
   "outputs": [
    {
     "data": {
      "text/plain": [
       "['222',\n",
       " nan,\n",
       " '496',\n",
       " '288',\n",
       " nan,\n",
       " nan,\n",
       " nan,\n",
       " nan,\n",
       " nan,\n",
       " nan,\n",
       " nan,\n",
       " nan,\n",
       " nan,\n",
       " nan,\n",
       " '108',\n",
       " nan,\n",
       " nan,\n",
       " nan,\n",
       " nan,\n",
       " nan,\n",
       " '254',\n",
       " nan,\n",
       " nan,\n",
       " nan,\n",
       " '342',\n",
       " '344',\n",
       " nan,\n",
       " '324',\n",
       " '204',\n",
       " '204',\n",
       " '222',\n",
       " '108',\n",
       " nan,\n",
       " nan,\n",
       " nan,\n",
       " nan,\n",
       " '110',\n",
       " nan,\n",
       " '570',\n",
       " nan,\n",
       " '516',\n",
       " nan,\n",
       " nan,\n",
       " nan,\n",
       " nan,\n",
       " nan,\n",
       " nan,\n",
       " nan,\n",
       " '204',\n",
       " nan,\n",
       " '204',\n",
       " '247',\n",
       " '112',\n",
       " nan,\n",
       " nan,\n",
       " nan,\n",
       " '108',\n",
       " '102',\n",
       " nan,\n",
       " nan,\n",
       " nan,\n",
       " nan,\n",
       " '582',\n",
       " '204',\n",
       " nan,\n",
       " nan,\n",
       " '291',\n",
       " '178',\n",
       " '78',\n",
       " '112',\n",
       " '204',\n",
       " '200',\n",
       " nan,\n",
       " '72',\n",
       " nan,\n",
       " '108',\n",
       " nan,\n",
       " nan,\n",
       " nan,\n",
       " nan,\n",
       " nan,\n",
       " '108',\n",
       " nan,\n",
       " nan,\n",
       " '108',\n",
       " '108']"
      ]
     },
     "execution_count": 121,
     "metadata": {},
     "output_type": "execute_result"
    }
   ],
   "source": [
    "for penitenciária in [tag for tag in pen]:\n",
    "    try:\n",
    "        m = re.search(r'cor-ala.+\\s.+Capacidade:.+>(\\d+).+População', str(penitenciária))\n",
    "        bd_dic['CAP_A'].append(m.group(1))\n",
    "    except:\n",
    "        bd_dic['CAP_A'].append(np.nan)\n",
    "bd_dic['CAP_A']"
   ]
  },
  {
   "cell_type": "code",
   "execution_count": 122,
   "metadata": {},
   "outputs": [],
   "source": [
    "bd_dic['POP_A'] = []"
   ]
  },
  {
   "cell_type": "code",
   "execution_count": 123,
   "metadata": {},
   "outputs": [
    {
     "data": {
      "text/plain": [
       "['226',\n",
       " nan,\n",
       " '612',\n",
       " '279',\n",
       " nan,\n",
       " nan,\n",
       " nan,\n",
       " nan,\n",
       " nan,\n",
       " nan,\n",
       " nan,\n",
       " nan,\n",
       " nan,\n",
       " nan,\n",
       " '279',\n",
       " nan,\n",
       " nan,\n",
       " nan,\n",
       " nan,\n",
       " nan,\n",
       " '324',\n",
       " nan,\n",
       " nan,\n",
       " nan,\n",
       " '573',\n",
       " '342',\n",
       " nan,\n",
       " '230',\n",
       " '262',\n",
       " '227',\n",
       " '242',\n",
       " '267',\n",
       " nan,\n",
       " nan,\n",
       " nan,\n",
       " nan,\n",
       " '111',\n",
       " nan,\n",
       " '564',\n",
       " nan,\n",
       " '789',\n",
       " nan,\n",
       " nan,\n",
       " nan,\n",
       " nan,\n",
       " nan,\n",
       " nan,\n",
       " nan,\n",
       " '30',\n",
       " nan,\n",
       " '217',\n",
       " '655',\n",
       " '102',\n",
       " nan,\n",
       " nan,\n",
       " nan,\n",
       " '158',\n",
       " '54',\n",
       " nan,\n",
       " nan,\n",
       " nan,\n",
       " nan,\n",
       " '815',\n",
       " '224',\n",
       " nan,\n",
       " nan,\n",
       " '466',\n",
       " '329',\n",
       " '84',\n",
       " '156',\n",
       " '194',\n",
       " '144',\n",
       " nan,\n",
       " '97',\n",
       " nan,\n",
       " '161',\n",
       " nan,\n",
       " nan,\n",
       " nan,\n",
       " nan,\n",
       " nan,\n",
       " '192',\n",
       " nan,\n",
       " nan,\n",
       " '168',\n",
       " '157']"
      ]
     },
     "execution_count": 123,
     "metadata": {},
     "output_type": "execute_result"
    }
   ],
   "source": [
    "for penitenciária in [tag for tag in pen]:\n",
    "    try:\n",
    "        m = re.search(r'cor-ala.+\\s.+População.+>(\\d+)', str(penitenciária))\n",
    "        bd_dic['POP_A'].append(m.group(1))\n",
    "    except:\n",
    "        bd_dic['POP_A'].append(np.nan)\n",
    "bd_dic['POP_A']"
   ]
  },
  {
   "cell_type": "code",
   "execution_count": 124,
   "metadata": {},
   "outputs": [
    {
     "data": {
      "text/plain": [
       "86"
      ]
     },
     "execution_count": 124,
     "metadata": {},
     "output_type": "execute_result"
    }
   ],
   "source": [
    "bd = pd.DataFrame(bd_dic, index=np.array(range(1,len(pen)+1)), columns = ['NOME', 'COO', 'CAP', 'POP', 'TIPO_A', 'CAP_A', 'POP_A'])\n",
    "len(bd)"
   ]
  },
  {
   "cell_type": "code",
   "execution_count": 125,
   "metadata": {},
   "outputs": [],
   "source": [
    "bd.to_excel(writer, 'PEN')"
   ]
  },
  {
   "cell_type": "markdown",
   "metadata": {},
   "source": [
    "# HOS"
   ]
  },
  {
   "cell_type": "code",
   "execution_count": 126,
   "metadata": {},
   "outputs": [],
   "source": [
    "driver.get(\"http://www.sap.sp.gov.br/uni-prisionais/hos.html#\")"
   ]
  },
  {
   "cell_type": "code",
   "execution_count": 127,
   "metadata": {},
   "outputs": [],
   "source": [
    "page = BeautifulSoup(driver.page_source, 'html.parser')"
   ]
  },
  {
   "cell_type": "code",
   "execution_count": 128,
   "metadata": {},
   "outputs": [],
   "source": [
    "# Setor onde se localizam os dados\n",
    "\n",
    "hos = page.find_all('div', class_ = 'f-out')"
   ]
  },
  {
   "cell_type": "code",
   "execution_count": 129,
   "metadata": {},
   "outputs": [
    {
     "data": {
      "text/plain": [
       "4"
      ]
     },
     "execution_count": 129,
     "metadata": {},
     "output_type": "execute_result"
    }
   ],
   "source": [
    "len(hos)"
   ]
  },
  {
   "cell_type": "code",
   "execution_count": 130,
   "metadata": {
    "scrolled": true
   },
   "outputs": [
    {
     "data": {
      "text/plain": [
       "<div class=\"f-out\" id=\"dados-uni148\">\n",
       "<h3>Centro Hospitalar do Sistema Penitenciário <br/>(M e F)</h3>\n",
       "<h4>Secretaria de Estado de Saúde - Irmandade da Santa Casa de Misericórdia SP</h4>\n",
       "<p class=\"dados\">\n",
       "<span class=\"cor-dados\">Endereço: </span>Rua Don José Mauricio, 15 - Carandiru<br/>\n",
       "<span class=\"cor-dados\">CEP: </span> 02028-000 - São Paulo  - SP<br/>\n",
       "<span class=\"cor-dados\">E-mail: </span><a class=\"inline\" href=\"mailto:dg_chsp@sap.sp.gov.br\">dg_chsp@sap.sp.gov.br</a> <br/>\n",
       "<span class=\"cor-dados\">Fone: </span>(11) 3581-3700   <span class=\"cor-dados\">Fax: </span>(11) 3581-3700<br/>\n",
       "<!--        <span class=\"cor-ult\"><script type=\"text/javascript\">document.write(data);</script></span><br /> \n",
       "        <span class=\"cor-ala\">Hospital Masculino</span>\t<br />                 \n",
       "      <span class=\"cor-dados\">Capacidade: </span> 272 &nbsp; <span class=\"cor-dados\">População: </span> <script type=\"text/javascript\">document.write(cschcar);</script><br />             \n",
       "                            \n",
       "               <span class=\"cor-ala\">Hospital Feminino</span>\t<br />   \n",
       "               <span class=\"cor-dados\"> Capacidade:</span> 91 &nbsp; <span class=\"cor-dados\">População:</span> <script type=\"text/javascript\">document.write(csfemchcar);</script>\n",
       "               -->\n",
       "</p>\n",
       "<p class=\"ficha\">Ficha Técnica</p>\n",
       "<p class=\"dados\">\n",
       "<span class=\"cor-dados\">Data de inauguração: </span>27/04/2009  -  <strong>Dec.  54.204,  de  03/04/2009 </strong> – Cria o Centro Hospitalar<br/>\n",
       "<span class=\"cor-dados\">Regime: </span>  fechado - preso provisório, <br/>semiaberto e medida de segurança\n",
       "        </p>\n",
       "<p class=\"gmaps\"><a href=\"https://www.google.com/maps/d/viewer?hl=pt-BR&amp;authuser=0&amp;mid=1jKJ4_4Beu812Jkdq0g6NB6R9shE&amp;ll=-23.50912419999999%2C-46.61928360000002&amp;z=15\" target=\"_blank\">Google Maps <img src=\"../Img/icon-gmaps.jpg\"/></a></p>\n",
       "<p class=\"fechar-ala\"><a class=\"btn1\"> <img alt=\"Fechar janela\" height=\"19\" src=\"../Img/botaoFechar.png\" width=\"60\"/></a></p>\n",
       "</div>"
      ]
     },
     "execution_count": 130,
     "metadata": {},
     "output_type": "execute_result"
    }
   ],
   "source": [
    "hos[2]"
   ]
  },
  {
   "cell_type": "code",
   "execution_count": 131,
   "metadata": {},
   "outputs": [],
   "source": [
    "# Criando o dicionário da base de dados\n",
    "\n",
    "bd_dic = {}"
   ]
  },
  {
   "cell_type": "code",
   "execution_count": 132,
   "metadata": {},
   "outputs": [],
   "source": [
    "# Criando a variável dos nomes\n",
    "\n",
    "bd_dic['NOME'] = []"
   ]
  },
  {
   "cell_type": "code",
   "execution_count": 133,
   "metadata": {},
   "outputs": [
    {
     "data": {
      "text/plain": [
       "['Hospital de Custódia e Tratamento Psiquiátrico \"Professor André Teixeira Lima\" I (M e F)',\n",
       " 'Hospital de Custódia e Tratamento Psiquiátrico II de Franco da Rocha (M e F)',\n",
       " 'Centro Hospitalar do Sistema Penitenciário (M e F)',\n",
       " 'Hospital de Custódia e Tratamento Psiquiátrico \"Dr. Arnaldo Amado Ferreira\" de Taubaté']"
      ]
     },
     "execution_count": 133,
     "metadata": {},
     "output_type": "execute_result"
    }
   ],
   "source": [
    "# Extraindo o nome dos presídios e colocando no dicionário\n",
    "\n",
    "for penitenciária in list(tag for tag in hos):\n",
    "    bd_dic['NOME'].append(penitenciária.find('h3').get_text().strip())\n",
    "    \n",
    "bd_dic['NOME']"
   ]
  },
  {
   "cell_type": "code",
   "execution_count": 134,
   "metadata": {},
   "outputs": [],
   "source": [
    "# Criando a variável das Coordenadorias\n",
    "\n",
    "bd_dic['COO'] = []"
   ]
  },
  {
   "cell_type": "code",
   "execution_count": 135,
   "metadata": {},
   "outputs": [
    {
     "data": {
      "text/plain": [
       "['Coordenadoria de Saúde',\n",
       " 'Coordenadoria de Saúde',\n",
       " 'Secretaria de Estado de Saúde - Irmandade da Santa Casa de Misericórdia SP',\n",
       " 'Coordenadoria de Saúde']"
      ]
     },
     "execution_count": 135,
     "metadata": {},
     "output_type": "execute_result"
    }
   ],
   "source": [
    "# Extraindo o nome das coordenadorias e colocando no dicionário\n",
    "\n",
    "for penitenciária in  [tag for tag in hos]:\n",
    "    bd_dic['COO'].append(penitenciária.find('h4').get_text().strip())\n",
    "\n",
    "bd_dic['COO']"
   ]
  },
  {
   "cell_type": "code",
   "execution_count": 136,
   "metadata": {},
   "outputs": [],
   "source": [
    "bd_dic['CAP'] = []"
   ]
  },
  {
   "cell_type": "code",
   "execution_count": 137,
   "metadata": {},
   "outputs": [
    {
     "data": {
      "text/plain": [
       "[nan, nan, nan, '244']"
      ]
     },
     "execution_count": 137,
     "metadata": {},
     "output_type": "execute_result"
    }
   ],
   "source": [
    "for penitenciária in [tag for tag in hos]:\n",
    "    try:\n",
    "        m = re.search(r'População prisional.+\\s.+Capacidade:.+>(\\d+).+População', str(penitenciária))\n",
    "        bd_dic['CAP'].append(m.group(1))\n",
    "    except:\n",
    "        bd_dic['CAP'].append(np.nan)\n",
    "bd_dic['CAP']"
   ]
  },
  {
   "cell_type": "code",
   "execution_count": 138,
   "metadata": {},
   "outputs": [],
   "source": [
    "bd_dic['POP'] = []"
   ]
  },
  {
   "cell_type": "code",
   "execution_count": 139,
   "metadata": {},
   "outputs": [
    {
     "data": {
      "text/plain": [
       "[nan, nan, nan, '253']"
      ]
     },
     "execution_count": 139,
     "metadata": {},
     "output_type": "execute_result"
    }
   ],
   "source": [
    "for penitenciária in [tag for tag in hos]:\n",
    "    try:\n",
    "        m = re.search(r'População prisional.+\\s.+População.+>(\\d+)', str(penitenciária))\n",
    "        bd_dic['POP'].append(m.group(1))\n",
    "    except:\n",
    "        bd_dic['POP'].append(np.nan)\n",
    "\n",
    "bd_dic['POP']"
   ]
  },
  {
   "cell_type": "code",
   "execution_count": 140,
   "metadata": {},
   "outputs": [],
   "source": [
    "bd_dic['CAP_M'] = []"
   ]
  },
  {
   "cell_type": "code",
   "execution_count": 141,
   "metadata": {},
   "outputs": [
    {
     "data": {
      "text/plain": [
       "[nan, nan, '272', nan]"
      ]
     },
     "execution_count": 141,
     "metadata": {},
     "output_type": "execute_result"
    }
   ],
   "source": [
    "for penitenciária in [tag for tag in hos]:\n",
    "    try:\n",
    "        m = re.search(r'Hospital Masculino.+\\s.+Capacidade:.+\\s(\\d+).+População', str(penitenciária))\n",
    "        bd_dic['CAP_M'].append(m.group(1))\n",
    "    except:\n",
    "        bd_dic['CAP_M'].append(np.nan)\n",
    "bd_dic['CAP_M']"
   ]
  },
  {
   "cell_type": "code",
   "execution_count": 142,
   "metadata": {},
   "outputs": [],
   "source": [
    "bd_dic['POP_M'] = []"
   ]
  },
  {
   "cell_type": "code",
   "execution_count": 143,
   "metadata": {},
   "outputs": [
    {
     "data": {
      "text/plain": [
       "['0', nan, nan, nan]"
      ]
     },
     "execution_count": 143,
     "metadata": {},
     "output_type": "execute_result"
    }
   ],
   "source": [
    "for penitenciária in [tag for tag in hos]:\n",
    "    try:\n",
    "        m = re.search(r'Tratamento Psiquiátrico - Masculino.+\\s.+População.+>(\\d+)', str(penitenciária))\n",
    "        bd_dic['POP_M'].append(m.group(1))\n",
    "    except:\n",
    "        bd_dic['POP_M'].append(np.nan)\n",
    "\n",
    "bd_dic['POP_M']"
   ]
  },
  {
   "cell_type": "code",
   "execution_count": 144,
   "metadata": {},
   "outputs": [],
   "source": [
    "bd_dic['CAP_F'] = []"
   ]
  },
  {
   "cell_type": "code",
   "execution_count": 145,
   "metadata": {},
   "outputs": [
    {
     "data": {
      "text/plain": [
       "[nan, nan, '91', nan]"
      ]
     },
     "execution_count": 145,
     "metadata": {},
     "output_type": "execute_result"
    }
   ],
   "source": [
    "for penitenciária in [tag for tag in hos]:\n",
    "    try:\n",
    "        m = re.search(r'Hospital Feminino.+\\s.+Capacidade:.+\\s(\\d+).+População', str(penitenciária))\n",
    "        bd_dic['CAP_F'].append(m.group(1))\n",
    "    except:\n",
    "        bd_dic['CAP_F'].append(np.nan)\n",
    "bd_dic['CAP_F']"
   ]
  },
  {
   "cell_type": "code",
   "execution_count": 146,
   "metadata": {},
   "outputs": [],
   "source": [
    "bd_dic['POP_F'] = []"
   ]
  },
  {
   "cell_type": "code",
   "execution_count": 147,
   "metadata": {},
   "outputs": [
    {
     "data": {
      "text/plain": [
       "[nan, nan, nan, nan]"
      ]
     },
     "execution_count": 147,
     "metadata": {},
     "output_type": "execute_result"
    }
   ],
   "source": [
    "for penitenciária in [tag for tag in hos]:\n",
    "    try:\n",
    "        m = re.search(r'Tratamento Psiquiátrico - Feminino.+\\s.+População.+>\\s(\\d+)', str(penitenciária))\n",
    "        bd_dic['POP_F'].append(m.group(1))\n",
    "    except:\n",
    "        bd_dic['POP_F'].append(np.nan)\n",
    "\n",
    "bd_dic['POP_F']"
   ]
  },
  {
   "cell_type": "code",
   "execution_count": 148,
   "metadata": {},
   "outputs": [],
   "source": [
    "bd_dic['CAP_TPF'] = []"
   ]
  },
  {
   "cell_type": "code",
   "execution_count": 149,
   "metadata": {},
   "outputs": [
    {
     "data": {
      "text/plain": [
       "['80', '22', nan, nan]"
      ]
     },
     "execution_count": 149,
     "metadata": {},
     "output_type": "execute_result"
    }
   ],
   "source": [
    "for penitenciária in [tag for tag in hos]:\n",
    "    try:\n",
    "        m = re.search(r'Tratamento Psiquiátrico - Feminino.+\\s.+Capacidade:.+>(\\d+).+População', str(penitenciária))\n",
    "        bd_dic['CAP_TPF'].append(m.group(1))\n",
    "    except:\n",
    "        bd_dic['CAP_TPF'].append(np.nan)\n",
    "bd_dic['CAP_TPF']"
   ]
  },
  {
   "cell_type": "code",
   "execution_count": 150,
   "metadata": {},
   "outputs": [],
   "source": [
    "bd_dic['POP_TPF'] = []"
   ]
  },
  {
   "cell_type": "code",
   "execution_count": 151,
   "metadata": {},
   "outputs": [
    {
     "data": {
      "text/plain": [
       "['76', '21', nan, nan]"
      ]
     },
     "execution_count": 151,
     "metadata": {},
     "output_type": "execute_result"
    }
   ],
   "source": [
    "for penitenciária in [tag for tag in hos]:\n",
    "    try:\n",
    "        m = re.search(r'Tratamento Psiquiátrico - Feminino.+\\s.+População.+>(\\d+)', str(penitenciária))\n",
    "        bd_dic['POP_TPF'].append(m.group(1))\n",
    "    except:\n",
    "        bd_dic['POP_TPF'].append(np.nan)\n",
    "\n",
    "bd_dic['POP_TPF']"
   ]
  },
  {
   "cell_type": "code",
   "execution_count": 152,
   "metadata": {},
   "outputs": [],
   "source": [
    "bd_dic['CAP_TPM'] = []"
   ]
  },
  {
   "cell_type": "code",
   "execution_count": 153,
   "metadata": {},
   "outputs": [
    {
     "data": {
      "text/plain": [
       "['454', nan, nan, nan]"
      ]
     },
     "execution_count": 153,
     "metadata": {},
     "output_type": "execute_result"
    }
   ],
   "source": [
    "for penitenciária in [tag for tag in hos]:\n",
    "    try:\n",
    "        m = re.search(r'Tratamento Psiquiátrico - Masculino.+\\s.+Capacidade:.+>(\\d+).+População', str(penitenciária))\n",
    "        bd_dic['CAP_TPM'].append(m.group(1))\n",
    "    except:\n",
    "        bd_dic['CAP_TPM'].append(np.nan)\n",
    "bd_dic['CAP_TPM']"
   ]
  },
  {
   "cell_type": "code",
   "execution_count": 154,
   "metadata": {},
   "outputs": [],
   "source": [
    "bd_dic['POP_TPM'] = []"
   ]
  },
  {
   "cell_type": "code",
   "execution_count": 155,
   "metadata": {},
   "outputs": [
    {
     "data": {
      "text/plain": [
       "['0', nan, nan, nan]"
      ]
     },
     "execution_count": 155,
     "metadata": {},
     "output_type": "execute_result"
    }
   ],
   "source": [
    "for penitenciária in [tag for tag in hos]:\n",
    "    try:\n",
    "        m = re.search(r'Tratamento Psiquiátrico - Masculino.+\\s.+População.+>(\\d+)', str(penitenciária))\n",
    "        bd_dic['POP_TPM'].append(m.group(1))\n",
    "    except:\n",
    "        bd_dic['POP_TPM'].append(np.nan)\n",
    "\n",
    "bd_dic['POP_TPM']"
   ]
  },
  {
   "cell_type": "code",
   "execution_count": 156,
   "metadata": {},
   "outputs": [],
   "source": [
    "bd_dic['CAP_TPF'] = []"
   ]
  },
  {
   "cell_type": "code",
   "execution_count": 157,
   "metadata": {},
   "outputs": [
    {
     "data": {
      "text/plain": [
       "['80', '22', nan, nan]"
      ]
     },
     "execution_count": 157,
     "metadata": {},
     "output_type": "execute_result"
    }
   ],
   "source": [
    "for penitenciária in [tag for tag in hos]:\n",
    "    try:\n",
    "        m = re.search(r'Tratamento Psiquiátrico - Feminino.+\\s.+Capacidade:.+>(\\d+).+População', str(penitenciária))\n",
    "        bd_dic['CAP_TPF'].append(m.group(1))\n",
    "    except:\n",
    "        bd_dic['CAP_TPF'].append(np.nan)\n",
    "bd_dic['CAP_TPF']"
   ]
  },
  {
   "cell_type": "code",
   "execution_count": 158,
   "metadata": {},
   "outputs": [],
   "source": [
    "bd_dic['POP_TPF'] = []"
   ]
  },
  {
   "cell_type": "code",
   "execution_count": 159,
   "metadata": {},
   "outputs": [
    {
     "data": {
      "text/plain": [
       "['76', '21', nan, nan]"
      ]
     },
     "execution_count": 159,
     "metadata": {},
     "output_type": "execute_result"
    }
   ],
   "source": [
    "for penitenciária in [tag for tag in hos]:\n",
    "    try:\n",
    "        m = re.search(r'Tratamento Psiquiátrico - Feminino.+\\s.+População.+>(\\d+)', str(penitenciária))\n",
    "        bd_dic['POP_TPF'].append(m.group(1))\n",
    "    except:\n",
    "        bd_dic['POP_TPF'].append(np.nan)\n",
    "\n",
    "bd_dic['POP_TPF']"
   ]
  },
  {
   "cell_type": "code",
   "execution_count": 160,
   "metadata": {},
   "outputs": [],
   "source": [
    "bd_dic['CAP_TPM'] = []"
   ]
  },
  {
   "cell_type": "code",
   "execution_count": 161,
   "metadata": {},
   "outputs": [
    {
     "data": {
      "text/plain": [
       "['454', nan, nan, nan]"
      ]
     },
     "execution_count": 161,
     "metadata": {},
     "output_type": "execute_result"
    }
   ],
   "source": [
    "for penitenciária in [tag for tag in hos]:\n",
    "    try:\n",
    "        m = re.search(r'Tratamento Psiquiátrico - Masculino.+\\s.+Capacidade:.+>(\\d+).+População', str(penitenciária))\n",
    "        bd_dic['CAP_TPM'].append(m.group(1))\n",
    "    except:\n",
    "        bd_dic['CAP_TPM'].append(np.nan)\n",
    "bd_dic['CAP_TPM']"
   ]
  },
  {
   "cell_type": "code",
   "execution_count": 162,
   "metadata": {},
   "outputs": [],
   "source": [
    "bd_dic['POP_TPM'] = []"
   ]
  },
  {
   "cell_type": "code",
   "execution_count": 163,
   "metadata": {},
   "outputs": [
    {
     "data": {
      "text/plain": [
       "['0', nan, nan, nan]"
      ]
     },
     "execution_count": 163,
     "metadata": {},
     "output_type": "execute_result"
    }
   ],
   "source": [
    "for penitenciária in [tag for tag in hos]:\n",
    "    try:\n",
    "        m = re.search(r'Tratamento Psiquiátrico - Masculino.+\\s.+População.+>(\\d+)', str(penitenciária))\n",
    "        bd_dic['POP_TPM'].append(m.group(1))\n",
    "    except:\n",
    "        bd_dic['POP_TPM'].append(np.nan)\n",
    "\n",
    "bd_dic['POP_TPM']"
   ]
  },
  {
   "cell_type": "code",
   "execution_count": 164,
   "metadata": {},
   "outputs": [],
   "source": [
    "bd_dic['CAP_TPF'] = []"
   ]
  },
  {
   "cell_type": "code",
   "execution_count": 165,
   "metadata": {},
   "outputs": [
    {
     "data": {
      "text/plain": [
       "['80', '22', nan, nan]"
      ]
     },
     "execution_count": 165,
     "metadata": {},
     "output_type": "execute_result"
    }
   ],
   "source": [
    "for penitenciária in [tag for tag in hos]:\n",
    "    try:\n",
    "        m = re.search(r'Tratamento Psiquiátrico - Feminino.+\\s.+Capacidade:.+>(\\d+).+População', str(penitenciária))\n",
    "        bd_dic['CAP_TPF'].append(m.group(1))\n",
    "    except:\n",
    "        bd_dic['CAP_TPF'].append(np.nan)\n",
    "bd_dic['CAP_TPF']"
   ]
  },
  {
   "cell_type": "code",
   "execution_count": 166,
   "metadata": {},
   "outputs": [],
   "source": [
    "bd_dic['POP_TPF'] = []"
   ]
  },
  {
   "cell_type": "code",
   "execution_count": 167,
   "metadata": {},
   "outputs": [
    {
     "data": {
      "text/plain": [
       "['76', '21', nan, nan]"
      ]
     },
     "execution_count": 167,
     "metadata": {},
     "output_type": "execute_result"
    }
   ],
   "source": [
    "for penitenciária in [tag for tag in hos]:\n",
    "    try:\n",
    "        m = re.search(r'Tratamento Psiquiátrico - Feminino.+\\s.+População.+>(\\d+)', str(penitenciária))\n",
    "        bd_dic['POP_TPF'].append(m.group(1))\n",
    "    except:\n",
    "        bd_dic['POP_TPF'].append(np.nan)\n",
    "\n",
    "bd_dic['POP_TPF']"
   ]
  },
  {
   "cell_type": "code",
   "execution_count": 168,
   "metadata": {},
   "outputs": [],
   "source": [
    "bd_dic['CAP_ADM'] = []"
   ]
  },
  {
   "cell_type": "code",
   "execution_count": 169,
   "metadata": {},
   "outputs": [
    {
     "data": {
      "text/plain": [
       "['110', '188', nan, nan]"
      ]
     },
     "execution_count": 169,
     "metadata": {},
     "output_type": "execute_result"
    }
   ],
   "source": [
    "for penitenciária in [tag for tag in hos]:\n",
    "    try:\n",
    "        m = re.search(r'Tratamento Psiquiátrico - Ala Desinternação Masculina.+\\s.+Capacidade:.+>(\\d+).+População', str(penitenciária))\n",
    "        bd_dic['CAP_ADM'].append(m.group(1))\n",
    "    except:\n",
    "        bd_dic['CAP_ADM'].append(np.nan)\n",
    "bd_dic['CAP_ADM']"
   ]
  },
  {
   "cell_type": "code",
   "execution_count": 170,
   "metadata": {},
   "outputs": [],
   "source": [
    "bd_dic['POP_ADM'] = []"
   ]
  },
  {
   "cell_type": "code",
   "execution_count": 171,
   "metadata": {},
   "outputs": [
    {
     "data": {
      "text/plain": [
       "['198', '193', nan, nan]"
      ]
     },
     "execution_count": 171,
     "metadata": {},
     "output_type": "execute_result"
    }
   ],
   "source": [
    "for penitenciária in [tag for tag in hos]:\n",
    "    try:\n",
    "        m = re.search(r'Tratamento Psiquiátrico - Ala Desinternação Masculina.+\\s.+População.+>(\\d+)', str(penitenciária))\n",
    "        bd_dic['POP_ADM'].append(m.group(1))\n",
    "    except:\n",
    "        bd_dic['POP_ADM'].append(np.nan)\n",
    "\n",
    "bd_dic['POP_ADM']"
   ]
  },
  {
   "cell_type": "code",
   "execution_count": 172,
   "metadata": {},
   "outputs": [
    {
     "data": {
      "text/plain": [
       "dict_keys(['NOME', 'COO', 'CAP', 'POP', 'CAP_M', 'POP_M', 'CAP_F', 'POP_F', 'CAP_TPF', 'POP_TPF', 'CAP_TPM', 'POP_TPM', 'CAP_ADM', 'POP_ADM'])"
      ]
     },
     "execution_count": 172,
     "metadata": {},
     "output_type": "execute_result"
    }
   ],
   "source": [
    "bd_dic.keys()"
   ]
  },
  {
   "cell_type": "code",
   "execution_count": 173,
   "metadata": {},
   "outputs": [
    {
     "data": {
      "text/plain": [
       "4"
      ]
     },
     "execution_count": 173,
     "metadata": {},
     "output_type": "execute_result"
    }
   ],
   "source": [
    "bd = pd.DataFrame(bd_dic, index=np.array(range(1,len(hos)+1)), columns = bd_dic.keys())\n",
    "len(bd)"
   ]
  },
  {
   "cell_type": "code",
   "execution_count": 174,
   "metadata": {},
   "outputs": [],
   "source": [
    "bd.to_excel(writer, 'HOS')"
   ]
  },
  {
   "cell_type": "markdown",
   "metadata": {},
   "source": [
    "# #"
   ]
  },
  {
   "cell_type": "markdown",
   "metadata": {},
   "source": [
    "# Fechamento"
   ]
  },
  {
   "cell_type": "code",
   "execution_count": 147,
   "metadata": {},
   "outputs": [],
   "source": [
    "writer.save()"
   ]
  }
 ],
 "metadata": {
  "anaconda-cloud": {},
  "kernelspec": {
   "display_name": "Python 3",
   "language": "python",
   "name": "python3"
  },
  "language_info": {
   "codemirror_mode": {
    "name": "ipython",
    "version": 3
   },
   "file_extension": ".py",
   "mimetype": "text/x-python",
   "name": "python",
   "nbconvert_exporter": "python",
   "pygments_lexer": "ipython3",
   "version": "3.7.0"
  }
 },
 "nbformat": 4,
 "nbformat_minor": 2
}
